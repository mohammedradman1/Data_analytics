{
  "nbformat": 4,
  "nbformat_minor": 0,
  "metadata": {
    "colab": {
      "provenance": [],
      "authorship_tag": "ABX9TyNx77AeUsGQ+Z8IW5ao9NH6",
      "include_colab_link": true
    },
    "kernelspec": {
      "name": "python3",
      "display_name": "Python 3"
    },
    "language_info": {
      "name": "python"
    }
  },
  "cells": [
    {
      "cell_type": "markdown",
      "metadata": {
        "id": "view-in-github",
        "colab_type": "text"
      },
      "source": [
        "<a href=\"https://colab.research.google.com/github/mohammedradman1/Data_analytics/blob/main/ZeroR%20Classifier.ipynb\" target=\"_parent\"><img src=\"https://colab.research.google.com/assets/colab-badge.svg\" alt=\"Open In Colab\"/></a>"
      ]
    },
    {
      "cell_type": "markdown",
      "source": [
        "# ZeroR Classifier"
      ],
      "metadata": {
        "id": "k_xGcL3zegxZ"
      }
    },
    {
      "cell_type": "markdown",
      "source": [
        "Creating the ZeroR classifier to test it on classification on the dataset.\n"
      ],
      "metadata": {
        "id": "yb-uhSsVejkp"
      }
    },
    {
      "cell_type": "markdown",
      "source": [
        "## Obtain the dataset."
      ],
      "metadata": {
        "id": "MYbIFCcnesf6"
      }
    },
    {
      "cell_type": "markdown",
      "source": [
        "We load the dataset to google colab as a zip file."
      ],
      "metadata": {
        "id": "VWrYts0Cexk0"
      }
    },
    {
      "cell_type": "code",
      "source": [
        "# We obtain the datasets\n",
        "!wget \"https://github.com/mohammedradman1/Data_analytics/blob/main/Classification%20Dataset/AIDs%20Classification%20.zip\""
      ],
      "metadata": {
        "id": "4UxbRAU1exGD",
        "outputId": "c28f3fde-da53-4c4d-cc7c-05995ff7763c",
        "colab": {
          "base_uri": "https://localhost:8080/"
        }
      },
      "execution_count": 18,
      "outputs": [
        {
          "output_type": "stream",
          "name": "stdout",
          "text": [
            "--2024-05-09 22:46:17--  https://github.com/mohammedradman1/Data_analytics/blob/main/Classification%20Dataset/AIDs%20Classification%20.zip\n",
            "Resolving github.com (github.com)... 140.82.114.4\n",
            "Connecting to github.com (github.com)|140.82.114.4|:443... connected.\n",
            "HTTP request sent, awaiting response... 200 OK\n",
            "Length: unspecified [text/html]\n",
            "Saving to: ‘AIDs Classification .zip’\n",
            "\n",
            "AIDs Classification     [ <=>                ] 261.40K  --.-KB/s    in 0.1s    \n",
            "\n",
            "2024-05-09 22:46:18 (2.57 MB/s) - ‘AIDs Classification .zip’ saved [267671]\n",
            "\n"
          ]
        }
      ]
    },
    {
      "cell_type": "markdown",
      "source": [
        "The zip file is unzipped in order to use the files."
      ],
      "metadata": {
        "id": "mpQO0bl3fKk8"
      }
    },
    {
      "cell_type": "code",
      "execution_count": 19,
      "metadata": {
        "id": "FaiGI-B0d2au"
      },
      "outputs": [],
      "source": [
        "# We import the zipFile\n",
        "from zipfile import ZipFile"
      ]
    },
    {
      "cell_type": "code",
      "source": [
        "# We try to unzip the file\n",
        "try:\n",
        "  with ZipFile(\"/content/AIDs Classification .zip\",\"r\") as zip_ref:\n",
        "    zip_ref.extractall()\n",
        "except:\n",
        "  print(\"Error in unzipping file.\")"
      ],
      "metadata": {
        "id": "KvLTHuVsfrKm",
        "outputId": "5857a7b0-8017-48f1-b39d-3ad8710d887c",
        "colab": {
          "base_uri": "https://localhost:8080/"
        }
      },
      "execution_count": 22,
      "outputs": [
        {
          "output_type": "stream",
          "name": "stdout",
          "text": [
            "Error in unzipping file.\n"
          ]
        }
      ]
    }
  ]
}