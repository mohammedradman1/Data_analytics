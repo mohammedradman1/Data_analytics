{
  "nbformat": 4,
  "nbformat_minor": 0,
  "metadata": {
    "colab": {
      "provenance": [],
      "authorship_tag": "ABX9TyOSrpzE3yeFLwaofqD4i1jy",
      "include_colab_link": true
    },
    "kernelspec": {
      "name": "python3",
      "display_name": "Python 3"
    },
    "language_info": {
      "name": "python"
    }
  },
  "cells": [
    {
      "cell_type": "markdown",
      "metadata": {
        "id": "view-in-github",
        "colab_type": "text"
      },
      "source": [
        "<a href=\"https://colab.research.google.com/github/mohammedradman1/Data_analytics/blob/main/ZeroR%20Classifier.ipynb\" target=\"_parent\"><img src=\"https://colab.research.google.com/assets/colab-badge.svg\" alt=\"Open In Colab\"/></a>"
      ]
    },
    {
      "cell_type": "markdown",
      "source": [
        "# ZeroR Classifier"
      ],
      "metadata": {
        "id": "k_xGcL3zegxZ"
      }
    },
    {
      "cell_type": "markdown",
      "source": [
        "Creating the ZeroR classifier to test it on classification on the dataset.\n"
      ],
      "metadata": {
        "id": "yb-uhSsVejkp"
      }
    },
    {
      "cell_type": "markdown",
      "source": [
        "## Obtain the dataset."
      ],
      "metadata": {
        "id": "MYbIFCcnesf6"
      }
    },
    {
      "cell_type": "markdown",
      "source": [
        "We load the dataset to google colab as a zip file."
      ],
      "metadata": {
        "id": "VWrYts0Cexk0"
      }
    },
    {
      "cell_type": "code",
      "source": [
        "# We obtain the datasets\n",
        "!wget \"https://github.com/mohammedradman1/Data_analytics/blob/main/Classification%20Dataset/AIDS_Classification.csv\"\n",
        "!wget \"https://github.com/mohammedradman1/Data_analytics/blob/main/Classification%20Dataset/AIDS_Classification_15000.csv\"\n",
        "!wget \"https://github.com/mohammedradman1/Data_analytics/blob/main/Classification%20Dataset/AIDS_Classification_5000.csv\"\n",
        "!wget \"https://github.com/mohammedradman1/Data_analytics/blob/main/Classification%20Dataset/AIDS_Classification_50000.csv\""
      ],
      "metadata": {
        "colab": {
          "base_uri": "https://localhost:8080/"
        },
        "id": "4UxbRAU1exGD",
        "outputId": "196d5360-aabc-419b-9335-a55914367718"
      },
      "execution_count": 24,
      "outputs": [
        {
          "output_type": "stream",
          "name": "stdout",
          "text": [
            "--2024-05-09 22:49:37--  https://github.com/mohammedradman1/Data_analytics/blob/main/Classification%20Dataset/AIDS_Classification.csv\n",
            "Resolving github.com (github.com)... 140.82.112.3\n",
            "Connecting to github.com (github.com)|140.82.112.3|:443... connected.\n",
            "HTTP request sent, awaiting response... 200 OK\n",
            "Length: unspecified [text/html]\n",
            "Saving to: ‘AIDS_Classification.csv.1’\n",
            "\n",
            "AIDS_Classification     [ <=>                ] 509.61K  --.-KB/s    in 0.1s    \n",
            "\n",
            "2024-05-09 22:49:38 (4.02 MB/s) - ‘AIDS_Classification.csv.1’ saved [521841]\n",
            "\n",
            "--2024-05-09 22:49:38--  https://github.com/mohammedradman1/Data_analytics/blob/main/Classification%20Dataset/AIDS_Classification_15000.csv\n",
            "Resolving github.com (github.com)... 140.82.113.3\n",
            "Connecting to github.com (github.com)|140.82.113.3|:443... connected.\n",
            "HTTP request sent, awaiting response... 200 OK\n",
            "Length: unspecified [text/html]\n",
            "Saving to: ‘AIDS_Classification_15000.csv.1’\n",
            "\n",
            "AIDS_Classification     [ <=>                ]   1.19M  6.76MB/s    in 0.2s    \n",
            "\n",
            "2024-05-09 22:49:38 (6.76 MB/s) - ‘AIDS_Classification_15000.csv.1’ saved [1247643]\n",
            "\n",
            "--2024-05-09 22:49:38--  https://github.com/mohammedradman1/Data_analytics/blob/main/Classification%20Dataset/AIDS_Classification_5000.csv\n",
            "Resolving github.com (github.com)... 140.82.113.3\n",
            "Connecting to github.com (github.com)|140.82.113.3|:443... connected.\n",
            "HTTP request sent, awaiting response... 200 OK\n",
            "Length: unspecified [text/html]\n",
            "Saving to: ‘AIDS_Classification_5000.csv.1’\n",
            "\n",
            "AIDS_Classification     [ <=>                ] 839.49K  5.42MB/s    in 0.2s    \n",
            "\n",
            "2024-05-09 22:49:39 (5.42 MB/s) - ‘AIDS_Classification_5000.csv.1’ saved [859638]\n",
            "\n",
            "--2024-05-09 22:49:39--  https://github.com/mohammedradman1/Data_analytics/blob/main/Classification%20Dataset/AIDS_Classification_50000.csv\n",
            "Resolving github.com (github.com)... 140.82.113.3\n",
            "Connecting to github.com (github.com)|140.82.113.3|:443... connected.\n",
            "HTTP request sent, awaiting response... 200 OK\n",
            "Length: unspecified [text/html]\n",
            "Saving to: ‘AIDS_Classification_50000.csv.1’\n",
            "\n",
            "AIDS_Classification     [ <=>                ] 146.68K  --.-KB/s    in 0.07s   \n",
            "\n",
            "2024-05-09 22:49:39 (1.93 MB/s) - ‘AIDS_Classification_50000.csv.1’ saved [150201]\n",
            "\n"
          ]
        }
      ]
    },
    {
      "cell_type": "markdown",
      "source": [
        "## Dataset Description"
      ],
      "metadata": {
        "id": "ONMWtZAwjQfO"
      }
    },
    {
      "cell_type": "markdown",
      "source": [
        "<h3>There are four datasets:</h3>\n",
        "<div  style=\"margin-top: 20px\">\n",
        "    <ol>\n",
        "        <li>AIDs Classification: 2140 record </li>\n",
        "        <li>AIDs Classification 5000: 5K record</li>\n",
        "        <li>AIDs Classification: 15K record</li>\n",
        "        <li>AIDs Classification: 50K record</li>\n",
        "    </ol>\n",
        "</div>\n",
        "<br>\n",
        "We will apply the ZeroR Classifier upon the four datasets."
      ],
      "metadata": {
        "id": "auorKR95jTBE"
      }
    },
    {
      "cell_type": "markdown",
      "source": [
        "<h3>The presented columns:</h3>\n",
        "\n",
        "<ul>\n",
        " <li> time: time to failure or censoring</li>\n",
        "<li>trt: treatment indicator (0 = ZDV only; 1 = ZDV + ddI, 2 = ZDV + Zal, 3 = ddI only)</li>\n",
        "<li>age: age (yrs) at baseline </li>\n",
        "<li>wtkg: weight (kg) at baseline </li>\n",
        "<li>hemo: hemophilia (0=no, 1=yes) </li>\n",
        "<li>homo: homosexual activity (0=no, 1=yes)</li>\n",
        "<li>drugs: history of IV drug use (0=no, 1=yes)</li>\n",
        "<li>karnof: Karnofsky score (on a scale of 0-100)</li>\n",
        "<li>oprior: Non-ZDV antiretroviral therapy pre-175 (0=no, 1=yes)</li>\n",
        "<li>z30: ZDV in the 30 days prior to 175 (0=no, 1=yes)</li>\n",
        "<li>preanti: days pre-175 anti-retroviral therapy\n",
        "<li>race: race (0=White, 1=non-white)</li>\n",
        "<li>gender: gender (0=F, 1=M)</li>\n",
        "<li>str2: antiretroviral history (0=naive, 1=experienced)</li>\n",
        "<li>strat: antiretroviral history stratification (1='Antiretroviral Naive',2='> 1 but <= 52 weeks of prior antiretroviral therapy',3='> 52 weeks)</li>\n",
        "<li>symptom: symptomatic indicator (0=asymp, 1=symp)</li>\n",
        "<li>treat: treatment indicator (0=ZDV only, 1=others)</li>\n",
        "<li>offtrt: indicator of off-trt before 96+/-5 weeks (0=no,1=yes)</li>\n",
        "<li>cd40: CD4 at baseline</li>\n",
        "<li>cd420: CD4 at 20+/-5 weeks</li>\n",
        "<li>cd80: CD8 at baseline</li>\n",
        "<li>cd820: CD8 at 20+/-5 weeks</li>\n",
        "<li>infected: is infected with AIDS (0=No, 1=Yes)</li>\n",
        "</ul>"
      ],
      "metadata": {
        "id": "OnoZ9P47k896"
      }
    }
  ]
}