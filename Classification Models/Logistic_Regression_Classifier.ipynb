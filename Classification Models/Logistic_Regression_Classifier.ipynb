{
  "nbformat": 4,
  "nbformat_minor": 0,
  "metadata": {
    "colab": {
      "provenance": [],
      "collapsed_sections": [
        "ONMWtZAwjQfO",
        "bElUJa-4nsTc"
      ]
    },
    "kernelspec": {
      "name": "python3",
      "display_name": "Python 3"
    },
    "language_info": {
      "name": "python"
    }
  },
  "cells": [
    {
      "cell_type": "markdown",
      "metadata": {
        "id": "view-in-github"
      },
      "source": [
        "<a href=\"https://colab.research.google.com/github/mohammedradman1/Data_analytics/blob/main/Random_Forest_Classifier.ipynb\" target=\"_parent\"><img src=\"https://colab.research.google.com/assets/colab-badge.svg\" alt=\"Open In Colab\"/></a>"
      ]
    },
    {
      "cell_type": "markdown",
      "source": [
        "# File Description"
      ],
      "metadata": {
        "id": "k_xGcL3zegxZ"
      }
    },
    {
      "cell_type": "markdown",
      "source": [
        "Creating the Logistic Regression Classifier to test it on classification on the dataset.\n",
        "\n"
      ],
      "metadata": {
        "id": "yb-uhSsVejkp"
      }
    },
    {
      "cell_type": "markdown",
      "source": [
        "## Obtain the dataset."
      ],
      "metadata": {
        "id": "MYbIFCcnesf6"
      }
    },
    {
      "cell_type": "markdown",
      "source": [
        "We load the dataset to google colab as a zip file."
      ],
      "metadata": {
        "id": "VWrYts0Cexk0"
      }
    },
    {
      "cell_type": "code",
      "source": [
        "# We obtain the datasets\n",
        "!wget \"https://raw.githubusercontent.com/mohammedradman1/Data_analytics/main/Classification%20Dataset/AIDS_Classification.csv\"\n",
        "\n",
        "!wget \"https://raw.githubusercontent.com/mohammedradman1/Data_analytics/main/Classification%20Dataset/AIDS_Classification_5000.csv\"\n",
        "!wget \"https://raw.githubusercontent.com/mohammedradman1/Data_analytics/main/Classification%20Dataset/AIDS_Classification_15000.csv\"\n",
        "\n",
        "!wget \"https://raw.githubusercontent.com/mohammedradman1/Data_analytics/main/Classification%20Dataset/AIDS_Classification_50000.csv\"\n"
      ],
      "metadata": {
        "colab": {
          "base_uri": "https://localhost:8080/"
        },
        "id": "4UxbRAU1exGD",
        "outputId": "98573b7d-7ff9-40ef-c506-750da1c55e52"
      },
      "execution_count": 3,
      "outputs": [
        {
          "output_type": "stream",
          "name": "stdout",
          "text": [
            "--2024-05-14 23:42:48--  https://raw.githubusercontent.com/mohammedradman1/Data_analytics/main/Classification%20Dataset/AIDS_Classification.csv\n",
            "Resolving raw.githubusercontent.com (raw.githubusercontent.com)... 185.199.108.133, 185.199.109.133, 185.199.110.133, ...\n",
            "Connecting to raw.githubusercontent.com (raw.githubusercontent.com)|185.199.108.133|:443... connected.\n",
            "HTTP request sent, awaiting response... 200 OK\n",
            "Length: 142796 (139K) [text/plain]\n",
            "Saving to: ‘AIDS_Classification.csv’\n",
            "\n",
            "AIDS_Classification 100%[===================>] 139.45K  --.-KB/s    in 0.02s   \n",
            "\n",
            "2024-05-14 23:42:48 (6.03 MB/s) - ‘AIDS_Classification.csv’ saved [142796/142796]\n",
            "\n",
            "--2024-05-14 23:42:48--  https://raw.githubusercontent.com/mohammedradman1/Data_analytics/main/Classification%20Dataset/AIDS_Classification_5000.csv\n",
            "Resolving raw.githubusercontent.com (raw.githubusercontent.com)... 185.199.108.133, 185.199.109.133, 185.199.110.133, ...\n",
            "Connecting to raw.githubusercontent.com (raw.githubusercontent.com)|185.199.108.133|:443... connected.\n",
            "HTTP request sent, awaiting response... 200 OK\n",
            "Length: 340995 (333K) [text/plain]\n",
            "Saving to: ‘AIDS_Classification_5000.csv’\n",
            "\n",
            "AIDS_Classification 100%[===================>] 333.00K  --.-KB/s    in 0.03s   \n",
            "\n",
            "2024-05-14 23:42:48 (9.48 MB/s) - ‘AIDS_Classification_5000.csv’ saved [340995/340995]\n",
            "\n",
            "--2024-05-14 23:42:49--  https://raw.githubusercontent.com/mohammedradman1/Data_analytics/main/Classification%20Dataset/AIDS_Classification_15000.csv\n",
            "Resolving raw.githubusercontent.com (raw.githubusercontent.com)... 185.199.108.133, 185.199.111.133, 185.199.109.133, ...\n",
            "Connecting to raw.githubusercontent.com (raw.githubusercontent.com)|185.199.108.133|:443... connected.\n",
            "HTTP request sent, awaiting response... 200 OK\n",
            "Length: 1022342 (998K) [text/plain]\n",
            "Saving to: ‘AIDS_Classification_15000.csv’\n",
            "\n",
            "AIDS_Classification 100%[===================>] 998.38K  --.-KB/s    in 0.06s   \n",
            "\n",
            "2024-05-14 23:42:49 (15.3 MB/s) - ‘AIDS_Classification_15000.csv’ saved [1022342/1022342]\n",
            "\n",
            "--2024-05-14 23:42:49--  https://raw.githubusercontent.com/mohammedradman1/Data_analytics/main/Classification%20Dataset/AIDS_Classification_50000.csv\n",
            "Resolving raw.githubusercontent.com (raw.githubusercontent.com)... 185.199.110.133, 185.199.108.133, 185.199.111.133, ...\n",
            "Connecting to raw.githubusercontent.com (raw.githubusercontent.com)|185.199.110.133|:443... connected.\n",
            "HTTP request sent, awaiting response... 200 OK\n",
            "Length: 3407476 (3.2M) [text/plain]\n",
            "Saving to: ‘AIDS_Classification_50000.csv’\n",
            "\n",
            "AIDS_Classification 100%[===================>]   3.25M  --.-KB/s    in 0.07s   \n",
            "\n",
            "2024-05-14 23:42:49 (43.3 MB/s) - ‘AIDS_Classification_50000.csv’ saved [3407476/3407476]\n",
            "\n"
          ]
        }
      ]
    },
    {
      "cell_type": "markdown",
      "source": [
        "## Dataset Description"
      ],
      "metadata": {
        "id": "ONMWtZAwjQfO"
      }
    },
    {
      "cell_type": "markdown",
      "source": [
        "<h3>There are four datasets:</h3>\n",
        "<div  style=\"margin-top: 20px\">\n",
        "    <ol>\n",
        "        <li>AIDs Classification: 2140 record </li>\n",
        "        <li>AIDs Classification 5000: 5K record</li>\n",
        "        <li>AIDs Classification: 15K record</li>\n",
        "        <li>AIDs Classification: 50K record</li>\n",
        "    </ol>\n",
        "</div>\n",
        "<br>\n",
        "We will apply the ZeroR Classifier upon the four datasets."
      ],
      "metadata": {
        "id": "auorKR95jTBE"
      }
    },
    {
      "cell_type": "markdown",
      "source": [
        "<h3>The presented columns:</h3>\n",
        "\n",
        "<ul>\n",
        " <li> time: time to failure or censoring</li>\n",
        "<li>trt: treatment indicator (0 = ZDV only; 1 = ZDV + ddI, 2 = ZDV + Zal, 3 = ddI only)</li>\n",
        "<li>age: age (yrs) at baseline </li>\n",
        "<li>wtkg: weight (kg) at baseline </li>\n",
        "<li>hemo: hemophilia (0=no, 1=yes) </li>\n",
        "<li>homo: homosexual activity (0=no, 1=yes)</li>\n",
        "<li>drugs: history of IV drug use (0=no, 1=yes)</li>\n",
        "<li>karnof: Karnofsky score (on a scale of 0-100)</li>\n",
        "<li>oprior: Non-ZDV antiretroviral therapy pre-175 (0=no, 1=yes)</li>\n",
        "<li>z30: ZDV in the 30 days prior to 175 (0=no, 1=yes)</li>\n",
        "<li>preanti: days pre-175 anti-retroviral therapy\n",
        "<li>race: race (0=White, 1=non-white)</li>\n",
        "<li>gender: gender (0=F, 1=M)</li>\n",
        "<li>str2: antiretroviral history (0=naive, 1=experienced)</li>\n",
        "<li>strat: antiretroviral history stratification (1='Antiretroviral Naive',2='> 1 but <= 52 weeks of prior antiretroviral therapy',3='> 52 weeks)</li>\n",
        "<li>symptom: symptomatic indicator (0=asymp, 1=symp)</li>\n",
        "<li>treat: treatment indicator (0=ZDV only, 1=others)</li>\n",
        "<li>offtrt: indicator of off-trt before 96+/-5 weeks (0=no,1=yes)</li>\n",
        "<li>cd40: CD4 at baseline</li>\n",
        "<li>cd420: CD4 at 20+/-5 weeks</li>\n",
        "<li>cd80: CD8 at baseline</li>\n",
        "<li>cd820: CD8 at 20+/-5 weeks</li>\n",
        "<li>infected: is infected with AIDS (0=No, 1=Yes)</li>\n",
        "</ul>"
      ],
      "metadata": {
        "id": "OnoZ9P47k896"
      }
    },
    {
      "cell_type": "markdown",
      "source": [
        "# Exploratory Data Analysis"
      ],
      "metadata": {
        "id": "bElUJa-4nsTc"
      }
    },
    {
      "cell_type": "code",
      "source": [
        "# importing needed libraries\n",
        "import pandas as pd\n",
        "import numpy as np\n",
        "import matplotlib.pyplot as plt"
      ],
      "metadata": {
        "id": "v1GNBXLKnzDo"
      },
      "execution_count": 4,
      "outputs": []
    },
    {
      "cell_type": "code",
      "source": [
        "# obtaing the data\n",
        "df_2k = pd.read_csv(\"AIDS_Classification.csv\", encoding =\"latin-1\")"
      ],
      "metadata": {
        "id": "mF-t_KD-nwP3"
      },
      "execution_count": 5,
      "outputs": []
    },
    {
      "cell_type": "code",
      "source": [
        "# viewin the head data\n",
        "df_2k.head()"
      ],
      "metadata": {
        "id": "YFr1D-U_pfEi",
        "outputId": "fadb9649-97cf-42b2-b2b5-549471792693",
        "colab": {
          "base_uri": "https://localhost:8080/",
          "height": 0
        }
      },
      "execution_count": 6,
      "outputs": [
        {
          "output_type": "execute_result",
          "data": {
            "text/plain": [
              "   time  trt  age     wtkg  hemo  homo  drugs  karnof  oprior  z30  ...  str2  \\\n",
              "0   948    2   48  89.8128     0     0      0     100       0    0  ...     0   \n",
              "1  1002    3   61  49.4424     0     0      0      90       0    1  ...     1   \n",
              "2   961    3   45  88.4520     0     1      1      90       0    1  ...     1   \n",
              "3  1166    3   47  85.2768     0     1      0     100       0    1  ...     1   \n",
              "4  1090    0   43  66.6792     0     1      0     100       0    1  ...     1   \n",
              "\n",
              "   strat  symptom  treat  offtrt  cd40  cd420  cd80  cd820  infected  \n",
              "0      1        0      1       0   422    477   566    324         0  \n",
              "1      3        0      1       0   162    218   392    564         1  \n",
              "2      3        0      1       1   326    274  2063   1893         0  \n",
              "3      3        0      1       0   287    394  1590    966         0  \n",
              "4      3        0      0       0   504    353   870    782         0  \n",
              "\n",
              "[5 rows x 23 columns]"
            ],
            "text/html": [
              "\n",
              "  <div id=\"df-9b3c6381-ee33-4c92-ac04-d3b75b1aa5b4\" class=\"colab-df-container\">\n",
              "    <div>\n",
              "<style scoped>\n",
              "    .dataframe tbody tr th:only-of-type {\n",
              "        vertical-align: middle;\n",
              "    }\n",
              "\n",
              "    .dataframe tbody tr th {\n",
              "        vertical-align: top;\n",
              "    }\n",
              "\n",
              "    .dataframe thead th {\n",
              "        text-align: right;\n",
              "    }\n",
              "</style>\n",
              "<table border=\"1\" class=\"dataframe\">\n",
              "  <thead>\n",
              "    <tr style=\"text-align: right;\">\n",
              "      <th></th>\n",
              "      <th>time</th>\n",
              "      <th>trt</th>\n",
              "      <th>age</th>\n",
              "      <th>wtkg</th>\n",
              "      <th>hemo</th>\n",
              "      <th>homo</th>\n",
              "      <th>drugs</th>\n",
              "      <th>karnof</th>\n",
              "      <th>oprior</th>\n",
              "      <th>z30</th>\n",
              "      <th>...</th>\n",
              "      <th>str2</th>\n",
              "      <th>strat</th>\n",
              "      <th>symptom</th>\n",
              "      <th>treat</th>\n",
              "      <th>offtrt</th>\n",
              "      <th>cd40</th>\n",
              "      <th>cd420</th>\n",
              "      <th>cd80</th>\n",
              "      <th>cd820</th>\n",
              "      <th>infected</th>\n",
              "    </tr>\n",
              "  </thead>\n",
              "  <tbody>\n",
              "    <tr>\n",
              "      <th>0</th>\n",
              "      <td>948</td>\n",
              "      <td>2</td>\n",
              "      <td>48</td>\n",
              "      <td>89.8128</td>\n",
              "      <td>0</td>\n",
              "      <td>0</td>\n",
              "      <td>0</td>\n",
              "      <td>100</td>\n",
              "      <td>0</td>\n",
              "      <td>0</td>\n",
              "      <td>...</td>\n",
              "      <td>0</td>\n",
              "      <td>1</td>\n",
              "      <td>0</td>\n",
              "      <td>1</td>\n",
              "      <td>0</td>\n",
              "      <td>422</td>\n",
              "      <td>477</td>\n",
              "      <td>566</td>\n",
              "      <td>324</td>\n",
              "      <td>0</td>\n",
              "    </tr>\n",
              "    <tr>\n",
              "      <th>1</th>\n",
              "      <td>1002</td>\n",
              "      <td>3</td>\n",
              "      <td>61</td>\n",
              "      <td>49.4424</td>\n",
              "      <td>0</td>\n",
              "      <td>0</td>\n",
              "      <td>0</td>\n",
              "      <td>90</td>\n",
              "      <td>0</td>\n",
              "      <td>1</td>\n",
              "      <td>...</td>\n",
              "      <td>1</td>\n",
              "      <td>3</td>\n",
              "      <td>0</td>\n",
              "      <td>1</td>\n",
              "      <td>0</td>\n",
              "      <td>162</td>\n",
              "      <td>218</td>\n",
              "      <td>392</td>\n",
              "      <td>564</td>\n",
              "      <td>1</td>\n",
              "    </tr>\n",
              "    <tr>\n",
              "      <th>2</th>\n",
              "      <td>961</td>\n",
              "      <td>3</td>\n",
              "      <td>45</td>\n",
              "      <td>88.4520</td>\n",
              "      <td>0</td>\n",
              "      <td>1</td>\n",
              "      <td>1</td>\n",
              "      <td>90</td>\n",
              "      <td>0</td>\n",
              "      <td>1</td>\n",
              "      <td>...</td>\n",
              "      <td>1</td>\n",
              "      <td>3</td>\n",
              "      <td>0</td>\n",
              "      <td>1</td>\n",
              "      <td>1</td>\n",
              "      <td>326</td>\n",
              "      <td>274</td>\n",
              "      <td>2063</td>\n",
              "      <td>1893</td>\n",
              "      <td>0</td>\n",
              "    </tr>\n",
              "    <tr>\n",
              "      <th>3</th>\n",
              "      <td>1166</td>\n",
              "      <td>3</td>\n",
              "      <td>47</td>\n",
              "      <td>85.2768</td>\n",
              "      <td>0</td>\n",
              "      <td>1</td>\n",
              "      <td>0</td>\n",
              "      <td>100</td>\n",
              "      <td>0</td>\n",
              "      <td>1</td>\n",
              "      <td>...</td>\n",
              "      <td>1</td>\n",
              "      <td>3</td>\n",
              "      <td>0</td>\n",
              "      <td>1</td>\n",
              "      <td>0</td>\n",
              "      <td>287</td>\n",
              "      <td>394</td>\n",
              "      <td>1590</td>\n",
              "      <td>966</td>\n",
              "      <td>0</td>\n",
              "    </tr>\n",
              "    <tr>\n",
              "      <th>4</th>\n",
              "      <td>1090</td>\n",
              "      <td>0</td>\n",
              "      <td>43</td>\n",
              "      <td>66.6792</td>\n",
              "      <td>0</td>\n",
              "      <td>1</td>\n",
              "      <td>0</td>\n",
              "      <td>100</td>\n",
              "      <td>0</td>\n",
              "      <td>1</td>\n",
              "      <td>...</td>\n",
              "      <td>1</td>\n",
              "      <td>3</td>\n",
              "      <td>0</td>\n",
              "      <td>0</td>\n",
              "      <td>0</td>\n",
              "      <td>504</td>\n",
              "      <td>353</td>\n",
              "      <td>870</td>\n",
              "      <td>782</td>\n",
              "      <td>0</td>\n",
              "    </tr>\n",
              "  </tbody>\n",
              "</table>\n",
              "<p>5 rows × 23 columns</p>\n",
              "</div>\n",
              "    <div class=\"colab-df-buttons\">\n",
              "\n",
              "  <div class=\"colab-df-container\">\n",
              "    <button class=\"colab-df-convert\" onclick=\"convertToInteractive('df-9b3c6381-ee33-4c92-ac04-d3b75b1aa5b4')\"\n",
              "            title=\"Convert this dataframe to an interactive table.\"\n",
              "            style=\"display:none;\">\n",
              "\n",
              "  <svg xmlns=\"http://www.w3.org/2000/svg\" height=\"24px\" viewBox=\"0 -960 960 960\">\n",
              "    <path d=\"M120-120v-720h720v720H120Zm60-500h600v-160H180v160Zm220 220h160v-160H400v160Zm0 220h160v-160H400v160ZM180-400h160v-160H180v160Zm440 0h160v-160H620v160ZM180-180h160v-160H180v160Zm440 0h160v-160H620v160Z\"/>\n",
              "  </svg>\n",
              "    </button>\n",
              "\n",
              "  <style>\n",
              "    .colab-df-container {\n",
              "      display:flex;\n",
              "      gap: 12px;\n",
              "    }\n",
              "\n",
              "    .colab-df-convert {\n",
              "      background-color: #E8F0FE;\n",
              "      border: none;\n",
              "      border-radius: 50%;\n",
              "      cursor: pointer;\n",
              "      display: none;\n",
              "      fill: #1967D2;\n",
              "      height: 32px;\n",
              "      padding: 0 0 0 0;\n",
              "      width: 32px;\n",
              "    }\n",
              "\n",
              "    .colab-df-convert:hover {\n",
              "      background-color: #E2EBFA;\n",
              "      box-shadow: 0px 1px 2px rgba(60, 64, 67, 0.3), 0px 1px 3px 1px rgba(60, 64, 67, 0.15);\n",
              "      fill: #174EA6;\n",
              "    }\n",
              "\n",
              "    .colab-df-buttons div {\n",
              "      margin-bottom: 4px;\n",
              "    }\n",
              "\n",
              "    [theme=dark] .colab-df-convert {\n",
              "      background-color: #3B4455;\n",
              "      fill: #D2E3FC;\n",
              "    }\n",
              "\n",
              "    [theme=dark] .colab-df-convert:hover {\n",
              "      background-color: #434B5C;\n",
              "      box-shadow: 0px 1px 3px 1px rgba(0, 0, 0, 0.15);\n",
              "      filter: drop-shadow(0px 1px 2px rgba(0, 0, 0, 0.3));\n",
              "      fill: #FFFFFF;\n",
              "    }\n",
              "  </style>\n",
              "\n",
              "    <script>\n",
              "      const buttonEl =\n",
              "        document.querySelector('#df-9b3c6381-ee33-4c92-ac04-d3b75b1aa5b4 button.colab-df-convert');\n",
              "      buttonEl.style.display =\n",
              "        google.colab.kernel.accessAllowed ? 'block' : 'none';\n",
              "\n",
              "      async function convertToInteractive(key) {\n",
              "        const element = document.querySelector('#df-9b3c6381-ee33-4c92-ac04-d3b75b1aa5b4');\n",
              "        const dataTable =\n",
              "          await google.colab.kernel.invokeFunction('convertToInteractive',\n",
              "                                                    [key], {});\n",
              "        if (!dataTable) return;\n",
              "\n",
              "        const docLinkHtml = 'Like what you see? Visit the ' +\n",
              "          '<a target=\"_blank\" href=https://colab.research.google.com/notebooks/data_table.ipynb>data table notebook</a>'\n",
              "          + ' to learn more about interactive tables.';\n",
              "        element.innerHTML = '';\n",
              "        dataTable['output_type'] = 'display_data';\n",
              "        await google.colab.output.renderOutput(dataTable, element);\n",
              "        const docLink = document.createElement('div');\n",
              "        docLink.innerHTML = docLinkHtml;\n",
              "        element.appendChild(docLink);\n",
              "      }\n",
              "    </script>\n",
              "  </div>\n",
              "\n",
              "\n",
              "<div id=\"df-094558b2-b016-42ff-863a-5948f1860188\">\n",
              "  <button class=\"colab-df-quickchart\" onclick=\"quickchart('df-094558b2-b016-42ff-863a-5948f1860188')\"\n",
              "            title=\"Suggest charts\"\n",
              "            style=\"display:none;\">\n",
              "\n",
              "<svg xmlns=\"http://www.w3.org/2000/svg\" height=\"24px\"viewBox=\"0 0 24 24\"\n",
              "     width=\"24px\">\n",
              "    <g>\n",
              "        <path d=\"M19 3H5c-1.1 0-2 .9-2 2v14c0 1.1.9 2 2 2h14c1.1 0 2-.9 2-2V5c0-1.1-.9-2-2-2zM9 17H7v-7h2v7zm4 0h-2V7h2v10zm4 0h-2v-4h2v4z\"/>\n",
              "    </g>\n",
              "</svg>\n",
              "  </button>\n",
              "\n",
              "<style>\n",
              "  .colab-df-quickchart {\n",
              "      --bg-color: #E8F0FE;\n",
              "      --fill-color: #1967D2;\n",
              "      --hover-bg-color: #E2EBFA;\n",
              "      --hover-fill-color: #174EA6;\n",
              "      --disabled-fill-color: #AAA;\n",
              "      --disabled-bg-color: #DDD;\n",
              "  }\n",
              "\n",
              "  [theme=dark] .colab-df-quickchart {\n",
              "      --bg-color: #3B4455;\n",
              "      --fill-color: #D2E3FC;\n",
              "      --hover-bg-color: #434B5C;\n",
              "      --hover-fill-color: #FFFFFF;\n",
              "      --disabled-bg-color: #3B4455;\n",
              "      --disabled-fill-color: #666;\n",
              "  }\n",
              "\n",
              "  .colab-df-quickchart {\n",
              "    background-color: var(--bg-color);\n",
              "    border: none;\n",
              "    border-radius: 50%;\n",
              "    cursor: pointer;\n",
              "    display: none;\n",
              "    fill: var(--fill-color);\n",
              "    height: 32px;\n",
              "    padding: 0;\n",
              "    width: 32px;\n",
              "  }\n",
              "\n",
              "  .colab-df-quickchart:hover {\n",
              "    background-color: var(--hover-bg-color);\n",
              "    box-shadow: 0 1px 2px rgba(60, 64, 67, 0.3), 0 1px 3px 1px rgba(60, 64, 67, 0.15);\n",
              "    fill: var(--button-hover-fill-color);\n",
              "  }\n",
              "\n",
              "  .colab-df-quickchart-complete:disabled,\n",
              "  .colab-df-quickchart-complete:disabled:hover {\n",
              "    background-color: var(--disabled-bg-color);\n",
              "    fill: var(--disabled-fill-color);\n",
              "    box-shadow: none;\n",
              "  }\n",
              "\n",
              "  .colab-df-spinner {\n",
              "    border: 2px solid var(--fill-color);\n",
              "    border-color: transparent;\n",
              "    border-bottom-color: var(--fill-color);\n",
              "    animation:\n",
              "      spin 1s steps(1) infinite;\n",
              "  }\n",
              "\n",
              "  @keyframes spin {\n",
              "    0% {\n",
              "      border-color: transparent;\n",
              "      border-bottom-color: var(--fill-color);\n",
              "      border-left-color: var(--fill-color);\n",
              "    }\n",
              "    20% {\n",
              "      border-color: transparent;\n",
              "      border-left-color: var(--fill-color);\n",
              "      border-top-color: var(--fill-color);\n",
              "    }\n",
              "    30% {\n",
              "      border-color: transparent;\n",
              "      border-left-color: var(--fill-color);\n",
              "      border-top-color: var(--fill-color);\n",
              "      border-right-color: var(--fill-color);\n",
              "    }\n",
              "    40% {\n",
              "      border-color: transparent;\n",
              "      border-right-color: var(--fill-color);\n",
              "      border-top-color: var(--fill-color);\n",
              "    }\n",
              "    60% {\n",
              "      border-color: transparent;\n",
              "      border-right-color: var(--fill-color);\n",
              "    }\n",
              "    80% {\n",
              "      border-color: transparent;\n",
              "      border-right-color: var(--fill-color);\n",
              "      border-bottom-color: var(--fill-color);\n",
              "    }\n",
              "    90% {\n",
              "      border-color: transparent;\n",
              "      border-bottom-color: var(--fill-color);\n",
              "    }\n",
              "  }\n",
              "</style>\n",
              "\n",
              "  <script>\n",
              "    async function quickchart(key) {\n",
              "      const quickchartButtonEl =\n",
              "        document.querySelector('#' + key + ' button');\n",
              "      quickchartButtonEl.disabled = true;  // To prevent multiple clicks.\n",
              "      quickchartButtonEl.classList.add('colab-df-spinner');\n",
              "      try {\n",
              "        const charts = await google.colab.kernel.invokeFunction(\n",
              "            'suggestCharts', [key], {});\n",
              "      } catch (error) {\n",
              "        console.error('Error during call to suggestCharts:', error);\n",
              "      }\n",
              "      quickchartButtonEl.classList.remove('colab-df-spinner');\n",
              "      quickchartButtonEl.classList.add('colab-df-quickchart-complete');\n",
              "    }\n",
              "    (() => {\n",
              "      let quickchartButtonEl =\n",
              "        document.querySelector('#df-094558b2-b016-42ff-863a-5948f1860188 button');\n",
              "      quickchartButtonEl.style.display =\n",
              "        google.colab.kernel.accessAllowed ? 'block' : 'none';\n",
              "    })();\n",
              "  </script>\n",
              "</div>\n",
              "\n",
              "    </div>\n",
              "  </div>\n"
            ],
            "application/vnd.google.colaboratory.intrinsic+json": {
              "type": "dataframe",
              "variable_name": "df_2k"
            }
          },
          "metadata": {},
          "execution_count": 6
        }
      ]
    },
    {
      "cell_type": "code",
      "source": [
        "# viewing the cases distributions\n",
        "df_2k.describe()"
      ],
      "metadata": {
        "id": "t2Mo-CKsp7K9",
        "outputId": "c5911c05-e0ea-4e85-ef2a-1d0d2f85838c",
        "colab": {
          "base_uri": "https://localhost:8080/",
          "height": 0
        }
      },
      "execution_count": 7,
      "outputs": [
        {
          "output_type": "execute_result",
          "data": {
            "text/plain": [
              "              time          trt          age         wtkg         hemo  \\\n",
              "count  2139.000000  2139.000000  2139.000000  2139.000000  2139.000000   \n",
              "mean    879.098177     1.520804    35.248247    75.125311     0.084151   \n",
              "std     292.274324     1.127890     8.709026    13.263164     0.277680   \n",
              "min      14.000000     0.000000    12.000000    31.000000     0.000000   \n",
              "25%     727.000000     1.000000    29.000000    66.679200     0.000000   \n",
              "50%     997.000000     2.000000    34.000000    74.390400     0.000000   \n",
              "75%    1091.000000     3.000000    40.000000    82.555200     0.000000   \n",
              "max    1231.000000     3.000000    70.000000   159.939360     1.000000   \n",
              "\n",
              "              homo        drugs       karnof       oprior          z30  ...  \\\n",
              "count  2139.000000  2139.000000  2139.000000  2139.000000  2139.000000  ...   \n",
              "mean      0.661057     0.131370    95.446470     0.021973     0.550257  ...   \n",
              "std       0.473461     0.337883     5.900985     0.146629     0.497584  ...   \n",
              "min       0.000000     0.000000    70.000000     0.000000     0.000000  ...   \n",
              "25%       0.000000     0.000000    90.000000     0.000000     0.000000  ...   \n",
              "50%       1.000000     0.000000   100.000000     0.000000     1.000000  ...   \n",
              "75%       1.000000     0.000000   100.000000     0.000000     1.000000  ...   \n",
              "max       1.000000     1.000000   100.000000     1.000000     1.000000  ...   \n",
              "\n",
              "              str2        strat      symptom        treat       offtrt  \\\n",
              "count  2139.000000  2139.000000  2139.000000  2139.000000  2139.000000   \n",
              "mean      0.585788     1.979897     0.172978     0.751286     0.362786   \n",
              "std       0.492701     0.899053     0.378317     0.432369     0.480916   \n",
              "min       0.000000     1.000000     0.000000     0.000000     0.000000   \n",
              "25%       0.000000     1.000000     0.000000     1.000000     0.000000   \n",
              "50%       1.000000     2.000000     0.000000     1.000000     0.000000   \n",
              "75%       1.000000     3.000000     0.000000     1.000000     1.000000   \n",
              "max       1.000000     3.000000     1.000000     1.000000     1.000000   \n",
              "\n",
              "              cd40        cd420         cd80        cd820     infected  \n",
              "count  2139.000000  2139.000000  2139.000000  2139.000000  2139.000000  \n",
              "mean    350.501169   371.307153   986.627396   935.369799     0.243572  \n",
              "std     118.573863   144.634909   480.197750   444.976051     0.429338  \n",
              "min       0.000000    49.000000    40.000000   124.000000     0.000000  \n",
              "25%     263.500000   269.000000   654.000000   631.500000     0.000000  \n",
              "50%     340.000000   353.000000   893.000000   865.000000     0.000000  \n",
              "75%     423.000000   460.000000  1207.000000  1146.500000     0.000000  \n",
              "max    1199.000000  1119.000000  5011.000000  6035.000000     1.000000  \n",
              "\n",
              "[8 rows x 23 columns]"
            ],
            "text/html": [
              "\n",
              "  <div id=\"df-457418d9-5500-4872-934f-dcd29896b356\" class=\"colab-df-container\">\n",
              "    <div>\n",
              "<style scoped>\n",
              "    .dataframe tbody tr th:only-of-type {\n",
              "        vertical-align: middle;\n",
              "    }\n",
              "\n",
              "    .dataframe tbody tr th {\n",
              "        vertical-align: top;\n",
              "    }\n",
              "\n",
              "    .dataframe thead th {\n",
              "        text-align: right;\n",
              "    }\n",
              "</style>\n",
              "<table border=\"1\" class=\"dataframe\">\n",
              "  <thead>\n",
              "    <tr style=\"text-align: right;\">\n",
              "      <th></th>\n",
              "      <th>time</th>\n",
              "      <th>trt</th>\n",
              "      <th>age</th>\n",
              "      <th>wtkg</th>\n",
              "      <th>hemo</th>\n",
              "      <th>homo</th>\n",
              "      <th>drugs</th>\n",
              "      <th>karnof</th>\n",
              "      <th>oprior</th>\n",
              "      <th>z30</th>\n",
              "      <th>...</th>\n",
              "      <th>str2</th>\n",
              "      <th>strat</th>\n",
              "      <th>symptom</th>\n",
              "      <th>treat</th>\n",
              "      <th>offtrt</th>\n",
              "      <th>cd40</th>\n",
              "      <th>cd420</th>\n",
              "      <th>cd80</th>\n",
              "      <th>cd820</th>\n",
              "      <th>infected</th>\n",
              "    </tr>\n",
              "  </thead>\n",
              "  <tbody>\n",
              "    <tr>\n",
              "      <th>count</th>\n",
              "      <td>2139.000000</td>\n",
              "      <td>2139.000000</td>\n",
              "      <td>2139.000000</td>\n",
              "      <td>2139.000000</td>\n",
              "      <td>2139.000000</td>\n",
              "      <td>2139.000000</td>\n",
              "      <td>2139.000000</td>\n",
              "      <td>2139.000000</td>\n",
              "      <td>2139.000000</td>\n",
              "      <td>2139.000000</td>\n",
              "      <td>...</td>\n",
              "      <td>2139.000000</td>\n",
              "      <td>2139.000000</td>\n",
              "      <td>2139.000000</td>\n",
              "      <td>2139.000000</td>\n",
              "      <td>2139.000000</td>\n",
              "      <td>2139.000000</td>\n",
              "      <td>2139.000000</td>\n",
              "      <td>2139.000000</td>\n",
              "      <td>2139.000000</td>\n",
              "      <td>2139.000000</td>\n",
              "    </tr>\n",
              "    <tr>\n",
              "      <th>mean</th>\n",
              "      <td>879.098177</td>\n",
              "      <td>1.520804</td>\n",
              "      <td>35.248247</td>\n",
              "      <td>75.125311</td>\n",
              "      <td>0.084151</td>\n",
              "      <td>0.661057</td>\n",
              "      <td>0.131370</td>\n",
              "      <td>95.446470</td>\n",
              "      <td>0.021973</td>\n",
              "      <td>0.550257</td>\n",
              "      <td>...</td>\n",
              "      <td>0.585788</td>\n",
              "      <td>1.979897</td>\n",
              "      <td>0.172978</td>\n",
              "      <td>0.751286</td>\n",
              "      <td>0.362786</td>\n",
              "      <td>350.501169</td>\n",
              "      <td>371.307153</td>\n",
              "      <td>986.627396</td>\n",
              "      <td>935.369799</td>\n",
              "      <td>0.243572</td>\n",
              "    </tr>\n",
              "    <tr>\n",
              "      <th>std</th>\n",
              "      <td>292.274324</td>\n",
              "      <td>1.127890</td>\n",
              "      <td>8.709026</td>\n",
              "      <td>13.263164</td>\n",
              "      <td>0.277680</td>\n",
              "      <td>0.473461</td>\n",
              "      <td>0.337883</td>\n",
              "      <td>5.900985</td>\n",
              "      <td>0.146629</td>\n",
              "      <td>0.497584</td>\n",
              "      <td>...</td>\n",
              "      <td>0.492701</td>\n",
              "      <td>0.899053</td>\n",
              "      <td>0.378317</td>\n",
              "      <td>0.432369</td>\n",
              "      <td>0.480916</td>\n",
              "      <td>118.573863</td>\n",
              "      <td>144.634909</td>\n",
              "      <td>480.197750</td>\n",
              "      <td>444.976051</td>\n",
              "      <td>0.429338</td>\n",
              "    </tr>\n",
              "    <tr>\n",
              "      <th>min</th>\n",
              "      <td>14.000000</td>\n",
              "      <td>0.000000</td>\n",
              "      <td>12.000000</td>\n",
              "      <td>31.000000</td>\n",
              "      <td>0.000000</td>\n",
              "      <td>0.000000</td>\n",
              "      <td>0.000000</td>\n",
              "      <td>70.000000</td>\n",
              "      <td>0.000000</td>\n",
              "      <td>0.000000</td>\n",
              "      <td>...</td>\n",
              "      <td>0.000000</td>\n",
              "      <td>1.000000</td>\n",
              "      <td>0.000000</td>\n",
              "      <td>0.000000</td>\n",
              "      <td>0.000000</td>\n",
              "      <td>0.000000</td>\n",
              "      <td>49.000000</td>\n",
              "      <td>40.000000</td>\n",
              "      <td>124.000000</td>\n",
              "      <td>0.000000</td>\n",
              "    </tr>\n",
              "    <tr>\n",
              "      <th>25%</th>\n",
              "      <td>727.000000</td>\n",
              "      <td>1.000000</td>\n",
              "      <td>29.000000</td>\n",
              "      <td>66.679200</td>\n",
              "      <td>0.000000</td>\n",
              "      <td>0.000000</td>\n",
              "      <td>0.000000</td>\n",
              "      <td>90.000000</td>\n",
              "      <td>0.000000</td>\n",
              "      <td>0.000000</td>\n",
              "      <td>...</td>\n",
              "      <td>0.000000</td>\n",
              "      <td>1.000000</td>\n",
              "      <td>0.000000</td>\n",
              "      <td>1.000000</td>\n",
              "      <td>0.000000</td>\n",
              "      <td>263.500000</td>\n",
              "      <td>269.000000</td>\n",
              "      <td>654.000000</td>\n",
              "      <td>631.500000</td>\n",
              "      <td>0.000000</td>\n",
              "    </tr>\n",
              "    <tr>\n",
              "      <th>50%</th>\n",
              "      <td>997.000000</td>\n",
              "      <td>2.000000</td>\n",
              "      <td>34.000000</td>\n",
              "      <td>74.390400</td>\n",
              "      <td>0.000000</td>\n",
              "      <td>1.000000</td>\n",
              "      <td>0.000000</td>\n",
              "      <td>100.000000</td>\n",
              "      <td>0.000000</td>\n",
              "      <td>1.000000</td>\n",
              "      <td>...</td>\n",
              "      <td>1.000000</td>\n",
              "      <td>2.000000</td>\n",
              "      <td>0.000000</td>\n",
              "      <td>1.000000</td>\n",
              "      <td>0.000000</td>\n",
              "      <td>340.000000</td>\n",
              "      <td>353.000000</td>\n",
              "      <td>893.000000</td>\n",
              "      <td>865.000000</td>\n",
              "      <td>0.000000</td>\n",
              "    </tr>\n",
              "    <tr>\n",
              "      <th>75%</th>\n",
              "      <td>1091.000000</td>\n",
              "      <td>3.000000</td>\n",
              "      <td>40.000000</td>\n",
              "      <td>82.555200</td>\n",
              "      <td>0.000000</td>\n",
              "      <td>1.000000</td>\n",
              "      <td>0.000000</td>\n",
              "      <td>100.000000</td>\n",
              "      <td>0.000000</td>\n",
              "      <td>1.000000</td>\n",
              "      <td>...</td>\n",
              "      <td>1.000000</td>\n",
              "      <td>3.000000</td>\n",
              "      <td>0.000000</td>\n",
              "      <td>1.000000</td>\n",
              "      <td>1.000000</td>\n",
              "      <td>423.000000</td>\n",
              "      <td>460.000000</td>\n",
              "      <td>1207.000000</td>\n",
              "      <td>1146.500000</td>\n",
              "      <td>0.000000</td>\n",
              "    </tr>\n",
              "    <tr>\n",
              "      <th>max</th>\n",
              "      <td>1231.000000</td>\n",
              "      <td>3.000000</td>\n",
              "      <td>70.000000</td>\n",
              "      <td>159.939360</td>\n",
              "      <td>1.000000</td>\n",
              "      <td>1.000000</td>\n",
              "      <td>1.000000</td>\n",
              "      <td>100.000000</td>\n",
              "      <td>1.000000</td>\n",
              "      <td>1.000000</td>\n",
              "      <td>...</td>\n",
              "      <td>1.000000</td>\n",
              "      <td>3.000000</td>\n",
              "      <td>1.000000</td>\n",
              "      <td>1.000000</td>\n",
              "      <td>1.000000</td>\n",
              "      <td>1199.000000</td>\n",
              "      <td>1119.000000</td>\n",
              "      <td>5011.000000</td>\n",
              "      <td>6035.000000</td>\n",
              "      <td>1.000000</td>\n",
              "    </tr>\n",
              "  </tbody>\n",
              "</table>\n",
              "<p>8 rows × 23 columns</p>\n",
              "</div>\n",
              "    <div class=\"colab-df-buttons\">\n",
              "\n",
              "  <div class=\"colab-df-container\">\n",
              "    <button class=\"colab-df-convert\" onclick=\"convertToInteractive('df-457418d9-5500-4872-934f-dcd29896b356')\"\n",
              "            title=\"Convert this dataframe to an interactive table.\"\n",
              "            style=\"display:none;\">\n",
              "\n",
              "  <svg xmlns=\"http://www.w3.org/2000/svg\" height=\"24px\" viewBox=\"0 -960 960 960\">\n",
              "    <path d=\"M120-120v-720h720v720H120Zm60-500h600v-160H180v160Zm220 220h160v-160H400v160Zm0 220h160v-160H400v160ZM180-400h160v-160H180v160Zm440 0h160v-160H620v160ZM180-180h160v-160H180v160Zm440 0h160v-160H620v160Z\"/>\n",
              "  </svg>\n",
              "    </button>\n",
              "\n",
              "  <style>\n",
              "    .colab-df-container {\n",
              "      display:flex;\n",
              "      gap: 12px;\n",
              "    }\n",
              "\n",
              "    .colab-df-convert {\n",
              "      background-color: #E8F0FE;\n",
              "      border: none;\n",
              "      border-radius: 50%;\n",
              "      cursor: pointer;\n",
              "      display: none;\n",
              "      fill: #1967D2;\n",
              "      height: 32px;\n",
              "      padding: 0 0 0 0;\n",
              "      width: 32px;\n",
              "    }\n",
              "\n",
              "    .colab-df-convert:hover {\n",
              "      background-color: #E2EBFA;\n",
              "      box-shadow: 0px 1px 2px rgba(60, 64, 67, 0.3), 0px 1px 3px 1px rgba(60, 64, 67, 0.15);\n",
              "      fill: #174EA6;\n",
              "    }\n",
              "\n",
              "    .colab-df-buttons div {\n",
              "      margin-bottom: 4px;\n",
              "    }\n",
              "\n",
              "    [theme=dark] .colab-df-convert {\n",
              "      background-color: #3B4455;\n",
              "      fill: #D2E3FC;\n",
              "    }\n",
              "\n",
              "    [theme=dark] .colab-df-convert:hover {\n",
              "      background-color: #434B5C;\n",
              "      box-shadow: 0px 1px 3px 1px rgba(0, 0, 0, 0.15);\n",
              "      filter: drop-shadow(0px 1px 2px rgba(0, 0, 0, 0.3));\n",
              "      fill: #FFFFFF;\n",
              "    }\n",
              "  </style>\n",
              "\n",
              "    <script>\n",
              "      const buttonEl =\n",
              "        document.querySelector('#df-457418d9-5500-4872-934f-dcd29896b356 button.colab-df-convert');\n",
              "      buttonEl.style.display =\n",
              "        google.colab.kernel.accessAllowed ? 'block' : 'none';\n",
              "\n",
              "      async function convertToInteractive(key) {\n",
              "        const element = document.querySelector('#df-457418d9-5500-4872-934f-dcd29896b356');\n",
              "        const dataTable =\n",
              "          await google.colab.kernel.invokeFunction('convertToInteractive',\n",
              "                                                    [key], {});\n",
              "        if (!dataTable) return;\n",
              "\n",
              "        const docLinkHtml = 'Like what you see? Visit the ' +\n",
              "          '<a target=\"_blank\" href=https://colab.research.google.com/notebooks/data_table.ipynb>data table notebook</a>'\n",
              "          + ' to learn more about interactive tables.';\n",
              "        element.innerHTML = '';\n",
              "        dataTable['output_type'] = 'display_data';\n",
              "        await google.colab.output.renderOutput(dataTable, element);\n",
              "        const docLink = document.createElement('div');\n",
              "        docLink.innerHTML = docLinkHtml;\n",
              "        element.appendChild(docLink);\n",
              "      }\n",
              "    </script>\n",
              "  </div>\n",
              "\n",
              "\n",
              "<div id=\"df-2a1f20d9-7d67-471f-9786-8d3c67b4e879\">\n",
              "  <button class=\"colab-df-quickchart\" onclick=\"quickchart('df-2a1f20d9-7d67-471f-9786-8d3c67b4e879')\"\n",
              "            title=\"Suggest charts\"\n",
              "            style=\"display:none;\">\n",
              "\n",
              "<svg xmlns=\"http://www.w3.org/2000/svg\" height=\"24px\"viewBox=\"0 0 24 24\"\n",
              "     width=\"24px\">\n",
              "    <g>\n",
              "        <path d=\"M19 3H5c-1.1 0-2 .9-2 2v14c0 1.1.9 2 2 2h14c1.1 0 2-.9 2-2V5c0-1.1-.9-2-2-2zM9 17H7v-7h2v7zm4 0h-2V7h2v10zm4 0h-2v-4h2v4z\"/>\n",
              "    </g>\n",
              "</svg>\n",
              "  </button>\n",
              "\n",
              "<style>\n",
              "  .colab-df-quickchart {\n",
              "      --bg-color: #E8F0FE;\n",
              "      --fill-color: #1967D2;\n",
              "      --hover-bg-color: #E2EBFA;\n",
              "      --hover-fill-color: #174EA6;\n",
              "      --disabled-fill-color: #AAA;\n",
              "      --disabled-bg-color: #DDD;\n",
              "  }\n",
              "\n",
              "  [theme=dark] .colab-df-quickchart {\n",
              "      --bg-color: #3B4455;\n",
              "      --fill-color: #D2E3FC;\n",
              "      --hover-bg-color: #434B5C;\n",
              "      --hover-fill-color: #FFFFFF;\n",
              "      --disabled-bg-color: #3B4455;\n",
              "      --disabled-fill-color: #666;\n",
              "  }\n",
              "\n",
              "  .colab-df-quickchart {\n",
              "    background-color: var(--bg-color);\n",
              "    border: none;\n",
              "    border-radius: 50%;\n",
              "    cursor: pointer;\n",
              "    display: none;\n",
              "    fill: var(--fill-color);\n",
              "    height: 32px;\n",
              "    padding: 0;\n",
              "    width: 32px;\n",
              "  }\n",
              "\n",
              "  .colab-df-quickchart:hover {\n",
              "    background-color: var(--hover-bg-color);\n",
              "    box-shadow: 0 1px 2px rgba(60, 64, 67, 0.3), 0 1px 3px 1px rgba(60, 64, 67, 0.15);\n",
              "    fill: var(--button-hover-fill-color);\n",
              "  }\n",
              "\n",
              "  .colab-df-quickchart-complete:disabled,\n",
              "  .colab-df-quickchart-complete:disabled:hover {\n",
              "    background-color: var(--disabled-bg-color);\n",
              "    fill: var(--disabled-fill-color);\n",
              "    box-shadow: none;\n",
              "  }\n",
              "\n",
              "  .colab-df-spinner {\n",
              "    border: 2px solid var(--fill-color);\n",
              "    border-color: transparent;\n",
              "    border-bottom-color: var(--fill-color);\n",
              "    animation:\n",
              "      spin 1s steps(1) infinite;\n",
              "  }\n",
              "\n",
              "  @keyframes spin {\n",
              "    0% {\n",
              "      border-color: transparent;\n",
              "      border-bottom-color: var(--fill-color);\n",
              "      border-left-color: var(--fill-color);\n",
              "    }\n",
              "    20% {\n",
              "      border-color: transparent;\n",
              "      border-left-color: var(--fill-color);\n",
              "      border-top-color: var(--fill-color);\n",
              "    }\n",
              "    30% {\n",
              "      border-color: transparent;\n",
              "      border-left-color: var(--fill-color);\n",
              "      border-top-color: var(--fill-color);\n",
              "      border-right-color: var(--fill-color);\n",
              "    }\n",
              "    40% {\n",
              "      border-color: transparent;\n",
              "      border-right-color: var(--fill-color);\n",
              "      border-top-color: var(--fill-color);\n",
              "    }\n",
              "    60% {\n",
              "      border-color: transparent;\n",
              "      border-right-color: var(--fill-color);\n",
              "    }\n",
              "    80% {\n",
              "      border-color: transparent;\n",
              "      border-right-color: var(--fill-color);\n",
              "      border-bottom-color: var(--fill-color);\n",
              "    }\n",
              "    90% {\n",
              "      border-color: transparent;\n",
              "      border-bottom-color: var(--fill-color);\n",
              "    }\n",
              "  }\n",
              "</style>\n",
              "\n",
              "  <script>\n",
              "    async function quickchart(key) {\n",
              "      const quickchartButtonEl =\n",
              "        document.querySelector('#' + key + ' button');\n",
              "      quickchartButtonEl.disabled = true;  // To prevent multiple clicks.\n",
              "      quickchartButtonEl.classList.add('colab-df-spinner');\n",
              "      try {\n",
              "        const charts = await google.colab.kernel.invokeFunction(\n",
              "            'suggestCharts', [key], {});\n",
              "      } catch (error) {\n",
              "        console.error('Error during call to suggestCharts:', error);\n",
              "      }\n",
              "      quickchartButtonEl.classList.remove('colab-df-spinner');\n",
              "      quickchartButtonEl.classList.add('colab-df-quickchart-complete');\n",
              "    }\n",
              "    (() => {\n",
              "      let quickchartButtonEl =\n",
              "        document.querySelector('#df-2a1f20d9-7d67-471f-9786-8d3c67b4e879 button');\n",
              "      quickchartButtonEl.style.display =\n",
              "        google.colab.kernel.accessAllowed ? 'block' : 'none';\n",
              "    })();\n",
              "  </script>\n",
              "</div>\n",
              "\n",
              "    </div>\n",
              "  </div>\n"
            ],
            "application/vnd.google.colaboratory.intrinsic+json": {
              "type": "dataframe"
            }
          },
          "metadata": {},
          "execution_count": 7
        }
      ]
    },
    {
      "cell_type": "code",
      "source": [
        "# Check if null exists\n",
        "df_2k.isnull().sum()"
      ],
      "metadata": {
        "id": "0YlDPTe-qSPl",
        "outputId": "0fa45d8a-cdd5-46d5-c05d-900491e8182c",
        "colab": {
          "base_uri": "https://localhost:8080/"
        }
      },
      "execution_count": 8,
      "outputs": [
        {
          "output_type": "execute_result",
          "data": {
            "text/plain": [
              "time        0\n",
              "trt         0\n",
              "age         0\n",
              "wtkg        0\n",
              "hemo        0\n",
              "homo        0\n",
              "drugs       0\n",
              "karnof      0\n",
              "oprior      0\n",
              "z30         0\n",
              "preanti     0\n",
              "race        0\n",
              "gender      0\n",
              "str2        0\n",
              "strat       0\n",
              "symptom     0\n",
              "treat       0\n",
              "offtrt      0\n",
              "cd40        0\n",
              "cd420       0\n",
              "cd80        0\n",
              "cd820       0\n",
              "infected    0\n",
              "dtype: int64"
            ]
          },
          "metadata": {},
          "execution_count": 8
        }
      ]
    },
    {
      "cell_type": "markdown",
      "source": [
        "Since there is no null values, we can proceed with the algorithms creation."
      ],
      "metadata": {
        "id": "rXEpOukJqXCN"
      }
    },
    {
      "cell_type": "markdown",
      "source": [
        "# Building Datasets\n"
      ],
      "metadata": {
        "id": "_IHNvFzIIXID"
      }
    },
    {
      "cell_type": "code",
      "source": [
        "# Reading the data\n",
        "data_dic = {} # to store dataframes\n",
        "data_dic[\"df_2k\"] = df_2k\n",
        "\n",
        "# reading all other three files\n",
        "df_5k = pd.read_csv(\"AIDS_Classification_5000.csv\")\n",
        "df_15k = pd.read_csv(\"AIDS_Classification_15000.csv\")\n",
        "df_50k = pd.read_csv(\"AIDS_Classification_50000.csv\")\n",
        "\n",
        "# adding the dataframes to the dictionary\n",
        "data_dic[\"df_5k\"] = df_5k\n",
        "data_dic[\"df_15k\"] = df_15k\n",
        "data_dic[\"df_50k\"] = df_50k"
      ],
      "metadata": {
        "id": "yWdzLjQiKb0P"
      },
      "execution_count": 9,
      "outputs": []
    },
    {
      "cell_type": "code",
      "source": [
        "data_dic.keys()"
      ],
      "metadata": {
        "id": "DdchaOioKvbk",
        "outputId": "7ef7b2e0-7304-4cfe-d4e9-8a6668d57637",
        "colab": {
          "base_uri": "https://localhost:8080/"
        }
      },
      "execution_count": 10,
      "outputs": [
        {
          "output_type": "execute_result",
          "data": {
            "text/plain": [
              "dict_keys(['df_2k', 'df_5k', 'df_15k', 'df_50k'])"
            ]
          },
          "metadata": {},
          "execution_count": 10
        }
      ]
    },
    {
      "cell_type": "code",
      "source": [
        "# We scale the dataset using min-max scaler\n",
        "from sklearn.preprocessing import MinMaxScaler\n",
        "scaler = MinMaxScaler(feature_range=(0, 1))"
      ],
      "metadata": {
        "id": "H_q3b4mlgYjm"
      },
      "execution_count": 16,
      "outputs": []
    },
    {
      "cell_type": "code",
      "source": [
        "# scaling all the dataframes\n",
        "for key, df in data_dic.items():\n",
        "  df[['time', 'age', 'wtkg', 'karnof', 'preanti', 'cd40', 'cd420', 'cd80', 'cd820']] = scaler.fit_transform(df[['time', 'age', 'wtkg', 'karnof', 'preanti', 'cd40', 'cd420', 'cd80', 'cd820']])\n",
        "\n"
      ],
      "metadata": {
        "id": "iJqDFEDPgcE-"
      },
      "execution_count": 17,
      "outputs": []
    },
    {
      "cell_type": "markdown",
      "source": [
        "# RandomForest Classifier"
      ],
      "metadata": {
        "id": "24MAB_16qaq2"
      }
    },
    {
      "cell_type": "markdown",
      "source": [
        "## Using holdout"
      ],
      "metadata": {
        "id": "sX8l7bw0i2WC"
      }
    },
    {
      "cell_type": "markdown",
      "source": [
        "We construct the decision tree classifier and find its accuracy and other measures."
      ],
      "metadata": {
        "id": "KH4EeHNAqdW2"
      }
    },
    {
      "cell_type": "code",
      "source": [
        "# We import the classifier model and metrics\n",
        "from sklearn.linear_model  import LogisticRegression\n",
        "from sklearn.model_selection import train_test_split\n",
        "from sklearn.metrics import accuracy_score, precision_score, recall_score"
      ],
      "metadata": {
        "id": "NdSHF7VvidCo"
      },
      "execution_count": 18,
      "outputs": []
    },
    {
      "cell_type": "code",
      "source": [
        "# to store the accuracy, precision\n",
        "lrc_models_accuracy = {}\n",
        "lrc_models_precision = {}\n",
        "lrc_models_recall = {}\n",
        "\n",
        "for key, value in data_dic.items():\n",
        "  print(\"Evaluating \", key , \" data.\")\n",
        "  # we split the data\n",
        "  Y = value[\"infected\"]\n",
        "  X = value.drop(\"infected\", axis = 1)\n",
        "  x_train, x_test, y_train, y_test = train_test_split(X, Y, test_size = 0.2)\n",
        "\n",
        "  # we create model\n",
        "  lrc = LogisticRegression( random_state = 0 )\n",
        "\n",
        "  # we fit the model\n",
        "  lrc.fit(x_train, y_train)\n",
        "\n",
        "  # predicting the values\n",
        "  y_pred = lrc.predict(x_test)\n",
        "\n",
        "  # evaluation model accuracy, precision, recall\n",
        "  lrc_models_accuracy[key] = accuracy_score(y_test, y_pred)\n",
        "  lrc_models_precision[key] = precision_score(y_test, y_pred)\n",
        "  lrc_models_recall[key] = recall_score(y_test, y_pred)\n"
      ],
      "metadata": {
        "id": "495NCzvDNewD",
        "outputId": "85a9616a-c364-4279-f59d-1722a5617a2c",
        "colab": {
          "base_uri": "https://localhost:8080/"
        }
      },
      "execution_count": 20,
      "outputs": [
        {
          "output_type": "stream",
          "name": "stdout",
          "text": [
            "Evaluating  df_2k  data.\n",
            "Evaluating  df_5k  data.\n",
            "Evaluating  df_15k  data.\n",
            "Evaluating  df_50k  data.\n"
          ]
        }
      ]
    },
    {
      "cell_type": "code",
      "source": [
        "# Print the accuracies\n",
        "lrc_models_accuracy\n"
      ],
      "metadata": {
        "id": "CqVEy0SkRPXv",
        "outputId": "30e0de48-37a7-4dba-fca9-0ec54ed94750",
        "colab": {
          "base_uri": "https://localhost:8080/"
        }
      },
      "execution_count": 21,
      "outputs": [
        {
          "output_type": "execute_result",
          "data": {
            "text/plain": [
              "{'df_2k': 0.852803738317757,\n",
              " 'df_5k': 0.72,\n",
              " 'df_15k': 0.7023333333333334,\n",
              " 'df_50k': 0.7088}"
            ]
          },
          "metadata": {},
          "execution_count": 21
        }
      ]
    },
    {
      "cell_type": "markdown",
      "source": [
        "We notice that the accuracy at the small dataset is very high and it dropped significantly as we increase the dataset size. Nomatter how bigger the dataset gets the accuracy is approximately the same."
      ],
      "metadata": {
        "id": "3QDDvhEDmhNu"
      }
    },
    {
      "cell_type": "code",
      "source": [
        "# Print the precision\n",
        "lrc_models_precision\n"
      ],
      "metadata": {
        "colab": {
          "base_uri": "https://localhost:8080/"
        },
        "id": "g6v5UVVlmKz0",
        "outputId": "52d15461-90aa-463e-d49a-a0f89781d6a8"
      },
      "execution_count": 22,
      "outputs": [
        {
          "output_type": "execute_result",
          "data": {
            "text/plain": [
              "{'df_2k': 0.7411764705882353,\n",
              " 'df_5k': 0.5703703703703704,\n",
              " 'df_15k': 0.5806451612903226,\n",
              " 'df_50k': 0.5681818181818182}"
            ]
          },
          "metadata": {},
          "execution_count": 22
        }
      ]
    },
    {
      "cell_type": "markdown",
      "source": [
        "We notice that the precison at the small dataset is very high and it dropped significantly as we increase the dataset size. Nomatter how bigger the dataset gets the precision is approximately the same."
      ],
      "metadata": {
        "id": "756QAHJ6muvj"
      }
    },
    {
      "cell_type": "code",
      "source": [
        "# print the recall\n",
        "lrc_models_recall"
      ],
      "metadata": {
        "colab": {
          "base_uri": "https://localhost:8080/"
        },
        "id": "td7oCrfNmPZd",
        "outputId": "8b159cf5-668a-41f1-b47a-1340b54903ba"
      },
      "execution_count": 23,
      "outputs": [
        {
          "output_type": "execute_result",
          "data": {
            "text/plain": [
              "{'df_2k': 0.6057692307692307,\n",
              " 'df_5k': 0.25752508361204013,\n",
              " 'df_15k': 0.2088607594936709,\n",
              " 'df_50k': 0.23493195074530135}"
            ]
          },
          "metadata": {},
          "execution_count": 23
        }
      ]
    },
    {
      "cell_type": "markdown",
      "source": [
        "We notice that the recall at the small dataset is very high and it dropped significantly as we increase the dataset size. Nomatter how bigger the dataset gets the recall is approximately the same."
      ],
      "metadata": {
        "id": "fAucoULEmxsr"
      }
    },
    {
      "cell_type": "markdown",
      "source": [
        "## Cross-validation"
      ],
      "metadata": {
        "id": "T_Li_3x8R7DR"
      }
    },
    {
      "cell_type": "code",
      "source": [
        "# import cross-validation model\n",
        "from sklearn.model_selection import cross_validate, KFold\n",
        "from sklearn.metrics import make_scorer # to get accuracy, precision, and recall"
      ],
      "metadata": {
        "id": "cZHlX0XUPeZZ"
      },
      "execution_count": 26,
      "outputs": []
    },
    {
      "cell_type": "code",
      "source": [
        "# specify the scoring we wish to calculate\n",
        "scoring = {'accuracy' : make_scorer(accuracy_score),\n",
        "           'precision' : make_scorer(precision_score),\n",
        "           'recall' : make_scorer(recall_score)}"
      ],
      "metadata": {
        "id": "T5JPylyqs_fq"
      },
      "execution_count": 27,
      "outputs": []
    },
    {
      "cell_type": "code",
      "source": [
        "# to store the accuracy, precision\n",
        "rfc_models_accuracy = {}\n",
        "lrc_models_precision = {}\n",
        "lrc_models_recall = {}\n",
        "\n",
        "for key, value in data_dic.items():\n",
        "  print(\"Evaluating \", key , \" data.\")\n",
        "  # we split the data\n",
        "  target = value[\"infected\"]\n",
        "  features = value.drop(\"infected\", axis = 1)\n",
        "\n",
        "  # we create model\n",
        "  rfc = LogisticRegression( random_state = 42 )\n",
        "\n",
        "  # we specify number of folds within the data\n",
        "  kfold = KFold( n_splits = 10)\n",
        "\n",
        "  # we fit the model and obtain the results\n",
        "  model_metrics =  cross_validate(estimator=rfc,\n",
        "                                    X= features,\n",
        "                                    y=target,\n",
        "                                    cv=kfold,\n",
        "                                    scoring=scoring)\n",
        "  # finding metrics: accuracy, precision, recall\n",
        "  lrc_models_accuracy[key] = model_metrics[\"test_accuracy\"].mean()\n",
        "  lrc_models_precision[key] = model_metrics[\"test_precision\"].mean()\n",
        "  lrc_models_recall[key] = model_metrics[\"test_recall\"].mean()"
      ],
      "metadata": {
        "id": "mRuFDiEATN1f",
        "outputId": "2cfb4b68-3749-4b61-8208-62b8d777113f",
        "colab": {
          "base_uri": "https://localhost:8080/"
        }
      },
      "execution_count": 28,
      "outputs": [
        {
          "output_type": "stream",
          "name": "stdout",
          "text": [
            "Evaluating  df_2k  data.\n",
            "Evaluating  df_5k  data.\n",
            "Evaluating  df_15k  data.\n",
            "Evaluating  df_50k  data.\n"
          ]
        }
      ]
    },
    {
      "cell_type": "code",
      "source": [
        "# we print the accuracies\n",
        "lrc_models_accuracy"
      ],
      "metadata": {
        "colab": {
          "base_uri": "https://localhost:8080/"
        },
        "id": "UrSUUip8vFPy",
        "outputId": "9656910b-4baf-4657-c380-84282ba1342f"
      },
      "execution_count": 29,
      "outputs": [
        {
          "output_type": "execute_result",
          "data": {
            "text/plain": [
              "{'df_2k': 0.8615791321135535,\n",
              " 'df_5k': 0.699,\n",
              " 'df_15k': 0.7076,\n",
              " 'df_50k': 0.70686}"
            ]
          },
          "metadata": {},
          "execution_count": 29
        }
      ]
    },
    {
      "cell_type": "code",
      "source": [
        "# we print the precision\n",
        "lrc_models_precision"
      ],
      "metadata": {
        "colab": {
          "base_uri": "https://localhost:8080/"
        },
        "id": "m1iI7POJvIiE",
        "outputId": "5dcbfddb-2020-4507-8336-4a4127e736ac"
      },
      "execution_count": 30,
      "outputs": [
        {
          "output_type": "execute_result",
          "data": {
            "text/plain": [
              "{'df_2k': 0.795472386749178,\n",
              " 'df_5k': 0.553927093049302,\n",
              " 'df_15k': 0.570352360382805,\n",
              " 'df_50k': 0.5687910592077339}"
            ]
          },
          "metadata": {},
          "execution_count": 30
        }
      ]
    },
    {
      "cell_type": "code",
      "source": [
        "# print the recall\n",
        "lrc_models_recall"
      ],
      "metadata": {
        "colab": {
          "base_uri": "https://localhost:8080/"
        },
        "id": "_UoaUqVRvRIn",
        "outputId": "31bbe4cb-b857-42af-b50e-0d564f5e16fa"
      },
      "execution_count": 31,
      "outputs": [
        {
          "output_type": "execute_result",
          "data": {
            "text/plain": [
              "{'df_2k': 0.5878812475306611,\n",
              " 'df_5k': 0.2607782328448253,\n",
              " 'df_15k': 0.21532462846458947,\n",
              " 'df_50k': 0.22635046806537035}"
            ]
          },
          "metadata": {},
          "execution_count": 31
        }
      ]
    },
    {
      "cell_type": "markdown",
      "source": [
        "It is noticeable that even with cross-validation, the valuse of accuracy, precision, and recall still decreases with the increase in the dataset size."
      ],
      "metadata": {
        "id": "iQRSNMSF0-q2"
      }
    }
  ]
}