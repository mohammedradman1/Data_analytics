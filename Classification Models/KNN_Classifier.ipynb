{
  "cells": [
    {
      "cell_type": "markdown",
      "metadata": {
        "id": "view-in-github",
        "colab_type": "text"
      },
      "source": [
        "<a href=\"https://colab.research.google.com/github/mohammedradman1/Data_analytics/blob/main/KNN_Classifier.ipynb\" target=\"_parent\"><img src=\"https://colab.research.google.com/assets/colab-badge.svg\" alt=\"Open In Colab\"/></a>"
      ]
    },
    {
      "cell_type": "markdown",
      "metadata": {
        "id": "k_xGcL3zegxZ"
      },
      "source": [
        "# File Description"
      ]
    },
    {
      "cell_type": "markdown",
      "metadata": {
        "id": "yb-uhSsVejkp"
      },
      "source": [
        "Creating the Decision Tree classifier to test it on classification on the dataset.\n",
        "\n"
      ]
    },
    {
      "cell_type": "markdown",
      "metadata": {
        "id": "MYbIFCcnesf6"
      },
      "source": [
        "## Obtain the dataset."
      ]
    },
    {
      "cell_type": "markdown",
      "metadata": {
        "id": "VWrYts0Cexk0"
      },
      "source": [
        "We load the dataset to google colab as a zip file."
      ]
    },
    {
      "cell_type": "code",
      "execution_count": 1,
      "metadata": {
        "colab": {
          "base_uri": "https://localhost:8080/"
        },
        "id": "4UxbRAU1exGD",
        "outputId": "c83e574d-3255-468b-c160-67bac252196f"
      },
      "outputs": [
        {
          "output_type": "stream",
          "name": "stdout",
          "text": [
            "--2024-05-11 23:36:26--  https://raw.githubusercontent.com/mohammedradman1/Data_analytics/main/Classification%20Dataset/AIDS_Classification.csv\n",
            "Resolving raw.githubusercontent.com (raw.githubusercontent.com)... 185.199.108.133, 185.199.109.133, 185.199.110.133, ...\n",
            "Connecting to raw.githubusercontent.com (raw.githubusercontent.com)|185.199.108.133|:443... connected.\n",
            "HTTP request sent, awaiting response... 200 OK\n",
            "Length: 142796 (139K) [text/plain]\n",
            "Saving to: ‘AIDS_Classification.csv’\n",
            "\n",
            "AIDS_Classification 100%[===================>] 139.45K  --.-KB/s    in 0.02s   \n",
            "\n",
            "2024-05-11 23:36:26 (5.97 MB/s) - ‘AIDS_Classification.csv’ saved [142796/142796]\n",
            "\n",
            "--2024-05-11 23:36:27--  https://raw.githubusercontent.com/mohammedradman1/Data_analytics/main/Classification%20Dataset/AIDS_Classification_5000.csv\n",
            "Resolving raw.githubusercontent.com (raw.githubusercontent.com)... 185.199.108.133, 185.199.109.133, 185.199.110.133, ...\n",
            "Connecting to raw.githubusercontent.com (raw.githubusercontent.com)|185.199.108.133|:443... connected.\n",
            "HTTP request sent, awaiting response... 200 OK\n",
            "Length: 340995 (333K) [text/plain]\n",
            "Saving to: ‘AIDS_Classification_5000.csv’\n",
            "\n",
            "AIDS_Classification 100%[===================>] 333.00K  --.-KB/s    in 0.04s   \n",
            "\n",
            "2024-05-11 23:36:27 (9.04 MB/s) - ‘AIDS_Classification_5000.csv’ saved [340995/340995]\n",
            "\n",
            "--2024-05-11 23:36:27--  https://raw.githubusercontent.com/mohammedradman1/Data_analytics/main/Classification%20Dataset/AIDS_Classification_15000.csv\n",
            "Resolving raw.githubusercontent.com (raw.githubusercontent.com)... 185.199.108.133, 185.199.109.133, 185.199.110.133, ...\n",
            "Connecting to raw.githubusercontent.com (raw.githubusercontent.com)|185.199.108.133|:443... connected.\n",
            "HTTP request sent, awaiting response... 200 OK\n",
            "Length: 1022342 (998K) [text/plain]\n",
            "Saving to: ‘AIDS_Classification_15000.csv’\n",
            "\n",
            "AIDS_Classification 100%[===================>] 998.38K  --.-KB/s    in 0.05s   \n",
            "\n",
            "2024-05-11 23:36:27 (18.3 MB/s) - ‘AIDS_Classification_15000.csv’ saved [1022342/1022342]\n",
            "\n",
            "--2024-05-11 23:36:27--  https://raw.githubusercontent.com/mohammedradman1/Data_analytics/main/Classification%20Dataset/AIDS_Classification_50000.csv\n",
            "Resolving raw.githubusercontent.com (raw.githubusercontent.com)... 185.199.108.133, 185.199.109.133, 185.199.110.133, ...\n",
            "Connecting to raw.githubusercontent.com (raw.githubusercontent.com)|185.199.108.133|:443... connected.\n",
            "HTTP request sent, awaiting response... 200 OK\n",
            "Length: 3407476 (3.2M) [text/plain]\n",
            "Saving to: ‘AIDS_Classification_50000.csv’\n",
            "\n",
            "AIDS_Classification 100%[===================>]   3.25M  --.-KB/s    in 0.08s   \n",
            "\n",
            "2024-05-11 23:36:28 (38.6 MB/s) - ‘AIDS_Classification_50000.csv’ saved [3407476/3407476]\n",
            "\n"
          ]
        }
      ],
      "source": [
        "# We obtain the datasets\n",
        "!wget \"https://raw.githubusercontent.com/mohammedradman1/Data_analytics/main/Classification%20Dataset/AIDS_Classification.csv\"\n",
        "\n",
        "!wget \"https://raw.githubusercontent.com/mohammedradman1/Data_analytics/main/Classification%20Dataset/AIDS_Classification_5000.csv\"\n",
        "!wget \"https://raw.githubusercontent.com/mohammedradman1/Data_analytics/main/Classification%20Dataset/AIDS_Classification_15000.csv\"\n",
        "\n",
        "!wget \"https://raw.githubusercontent.com/mohammedradman1/Data_analytics/main/Classification%20Dataset/AIDS_Classification_50000.csv\"\n"
      ]
    },
    {
      "cell_type": "markdown",
      "metadata": {
        "id": "ONMWtZAwjQfO"
      },
      "source": [
        "## Dataset Description"
      ]
    },
    {
      "cell_type": "markdown",
      "metadata": {
        "id": "auorKR95jTBE"
      },
      "source": [
        "<h3>There are four datasets:</h3>\n",
        "<div  style=\"margin-top: 20px\">\n",
        "    <ol>\n",
        "        <li>AIDs Classification: 2140 record </li>\n",
        "        <li>AIDs Classification 5000: 5K record</li>\n",
        "        <li>AIDs Classification: 15K record</li>\n",
        "        <li>AIDs Classification: 50K record</li>\n",
        "    </ol>\n",
        "</div>\n",
        "<br>\n",
        "We will apply the ZeroR Classifier upon the four datasets."
      ]
    },
    {
      "cell_type": "markdown",
      "metadata": {
        "id": "OnoZ9P47k896"
      },
      "source": [
        "<h3>The presented columns:</h3>\n",
        "\n",
        "<ul>\n",
        " <li> time: time to failure or censoring</li>\n",
        "<li>trt: treatment indicator (0 = ZDV only; 1 = ZDV + ddI, 2 = ZDV + Zal, 3 = ddI only)</li>\n",
        "<li>age: age (yrs) at baseline </li>\n",
        "<li>wtkg: weight (kg) at baseline </li>\n",
        "<li>hemo: hemophilia (0=no, 1=yes) </li>\n",
        "<li>homo: homosexual activity (0=no, 1=yes)</li>\n",
        "<li>drugs: history of IV drug use (0=no, 1=yes)</li>\n",
        "<li>karnof: Karnofsky score (on a scale of 0-100)</li>\n",
        "<li>oprior: Non-ZDV antiretroviral therapy pre-175 (0=no, 1=yes)</li>\n",
        "<li>z30: ZDV in the 30 days prior to 175 (0=no, 1=yes)</li>\n",
        "<li>preanti: days pre-175 anti-retroviral therapy\n",
        "<li>race: race (0=White, 1=non-white)</li>\n",
        "<li>gender: gender (0=F, 1=M)</li>\n",
        "<li>str2: antiretroviral history (0=naive, 1=experienced)</li>\n",
        "<li>strat: antiretroviral history stratification (1='Antiretroviral Naive',2='> 1 but <= 52 weeks of prior antiretroviral therapy',3='> 52 weeks)</li>\n",
        "<li>symptom: symptomatic indicator (0=asymp, 1=symp)</li>\n",
        "<li>treat: treatment indicator (0=ZDV only, 1=others)</li>\n",
        "<li>offtrt: indicator of off-trt before 96+/-5 weeks (0=no,1=yes)</li>\n",
        "<li>cd40: CD4 at baseline</li>\n",
        "<li>cd420: CD4 at 20+/-5 weeks</li>\n",
        "<li>cd80: CD8 at baseline</li>\n",
        "<li>cd820: CD8 at 20+/-5 weeks</li>\n",
        "<li>infected: is infected with AIDS (0=No, 1=Yes)</li>\n",
        "</ul>"
      ]
    },
    {
      "cell_type": "markdown",
      "metadata": {
        "id": "bElUJa-4nsTc"
      },
      "source": [
        "# Exploratory Data Analysis"
      ]
    },
    {
      "cell_type": "code",
      "execution_count": 2,
      "metadata": {
        "id": "v1GNBXLKnzDo"
      },
      "outputs": [],
      "source": [
        "# importing needed libraries\n",
        "import pandas as pd\n",
        "import numpy as np\n",
        "import matplotlib.pyplot as plt"
      ]
    },
    {
      "cell_type": "code",
      "execution_count": 3,
      "metadata": {
        "id": "mF-t_KD-nwP3"
      },
      "outputs": [],
      "source": [
        "# obtaing the data\n",
        "df_2k = pd.read_csv(\"AIDS_Classification.csv\", encoding =\"latin-1\")"
      ]
    },
    {
      "cell_type": "code",
      "execution_count": 4,
      "metadata": {
        "colab": {
          "base_uri": "https://localhost:8080/",
          "height": 0
        },
        "id": "YFr1D-U_pfEi",
        "outputId": "f4c697dd-4ba4-4046-ac42-d88f812e74de"
      },
      "outputs": [
        {
          "output_type": "execute_result",
          "data": {
            "text/plain": [
              "   time  trt  age     wtkg  hemo  homo  drugs  karnof  oprior  z30  ...  str2  \\\n",
              "0   948    2   48  89.8128     0     0      0     100       0    0  ...     0   \n",
              "1  1002    3   61  49.4424     0     0      0      90       0    1  ...     1   \n",
              "2   961    3   45  88.4520     0     1      1      90       0    1  ...     1   \n",
              "3  1166    3   47  85.2768     0     1      0     100       0    1  ...     1   \n",
              "4  1090    0   43  66.6792     0     1      0     100       0    1  ...     1   \n",
              "\n",
              "   strat  symptom  treat  offtrt  cd40  cd420  cd80  cd820  infected  \n",
              "0      1        0      1       0   422    477   566    324         0  \n",
              "1      3        0      1       0   162    218   392    564         1  \n",
              "2      3        0      1       1   326    274  2063   1893         0  \n",
              "3      3        0      1       0   287    394  1590    966         0  \n",
              "4      3        0      0       0   504    353   870    782         0  \n",
              "\n",
              "[5 rows x 23 columns]"
            ],
            "text/html": [
              "\n",
              "  <div id=\"df-58a02f66-9bfd-41c6-b3b0-977d6eeac9ba\" class=\"colab-df-container\">\n",
              "    <div>\n",
              "<style scoped>\n",
              "    .dataframe tbody tr th:only-of-type {\n",
              "        vertical-align: middle;\n",
              "    }\n",
              "\n",
              "    .dataframe tbody tr th {\n",
              "        vertical-align: top;\n",
              "    }\n",
              "\n",
              "    .dataframe thead th {\n",
              "        text-align: right;\n",
              "    }\n",
              "</style>\n",
              "<table border=\"1\" class=\"dataframe\">\n",
              "  <thead>\n",
              "    <tr style=\"text-align: right;\">\n",
              "      <th></th>\n",
              "      <th>time</th>\n",
              "      <th>trt</th>\n",
              "      <th>age</th>\n",
              "      <th>wtkg</th>\n",
              "      <th>hemo</th>\n",
              "      <th>homo</th>\n",
              "      <th>drugs</th>\n",
              "      <th>karnof</th>\n",
              "      <th>oprior</th>\n",
              "      <th>z30</th>\n",
              "      <th>...</th>\n",
              "      <th>str2</th>\n",
              "      <th>strat</th>\n",
              "      <th>symptom</th>\n",
              "      <th>treat</th>\n",
              "      <th>offtrt</th>\n",
              "      <th>cd40</th>\n",
              "      <th>cd420</th>\n",
              "      <th>cd80</th>\n",
              "      <th>cd820</th>\n",
              "      <th>infected</th>\n",
              "    </tr>\n",
              "  </thead>\n",
              "  <tbody>\n",
              "    <tr>\n",
              "      <th>0</th>\n",
              "      <td>948</td>\n",
              "      <td>2</td>\n",
              "      <td>48</td>\n",
              "      <td>89.8128</td>\n",
              "      <td>0</td>\n",
              "      <td>0</td>\n",
              "      <td>0</td>\n",
              "      <td>100</td>\n",
              "      <td>0</td>\n",
              "      <td>0</td>\n",
              "      <td>...</td>\n",
              "      <td>0</td>\n",
              "      <td>1</td>\n",
              "      <td>0</td>\n",
              "      <td>1</td>\n",
              "      <td>0</td>\n",
              "      <td>422</td>\n",
              "      <td>477</td>\n",
              "      <td>566</td>\n",
              "      <td>324</td>\n",
              "      <td>0</td>\n",
              "    </tr>\n",
              "    <tr>\n",
              "      <th>1</th>\n",
              "      <td>1002</td>\n",
              "      <td>3</td>\n",
              "      <td>61</td>\n",
              "      <td>49.4424</td>\n",
              "      <td>0</td>\n",
              "      <td>0</td>\n",
              "      <td>0</td>\n",
              "      <td>90</td>\n",
              "      <td>0</td>\n",
              "      <td>1</td>\n",
              "      <td>...</td>\n",
              "      <td>1</td>\n",
              "      <td>3</td>\n",
              "      <td>0</td>\n",
              "      <td>1</td>\n",
              "      <td>0</td>\n",
              "      <td>162</td>\n",
              "      <td>218</td>\n",
              "      <td>392</td>\n",
              "      <td>564</td>\n",
              "      <td>1</td>\n",
              "    </tr>\n",
              "    <tr>\n",
              "      <th>2</th>\n",
              "      <td>961</td>\n",
              "      <td>3</td>\n",
              "      <td>45</td>\n",
              "      <td>88.4520</td>\n",
              "      <td>0</td>\n",
              "      <td>1</td>\n",
              "      <td>1</td>\n",
              "      <td>90</td>\n",
              "      <td>0</td>\n",
              "      <td>1</td>\n",
              "      <td>...</td>\n",
              "      <td>1</td>\n",
              "      <td>3</td>\n",
              "      <td>0</td>\n",
              "      <td>1</td>\n",
              "      <td>1</td>\n",
              "      <td>326</td>\n",
              "      <td>274</td>\n",
              "      <td>2063</td>\n",
              "      <td>1893</td>\n",
              "      <td>0</td>\n",
              "    </tr>\n",
              "    <tr>\n",
              "      <th>3</th>\n",
              "      <td>1166</td>\n",
              "      <td>3</td>\n",
              "      <td>47</td>\n",
              "      <td>85.2768</td>\n",
              "      <td>0</td>\n",
              "      <td>1</td>\n",
              "      <td>0</td>\n",
              "      <td>100</td>\n",
              "      <td>0</td>\n",
              "      <td>1</td>\n",
              "      <td>...</td>\n",
              "      <td>1</td>\n",
              "      <td>3</td>\n",
              "      <td>0</td>\n",
              "      <td>1</td>\n",
              "      <td>0</td>\n",
              "      <td>287</td>\n",
              "      <td>394</td>\n",
              "      <td>1590</td>\n",
              "      <td>966</td>\n",
              "      <td>0</td>\n",
              "    </tr>\n",
              "    <tr>\n",
              "      <th>4</th>\n",
              "      <td>1090</td>\n",
              "      <td>0</td>\n",
              "      <td>43</td>\n",
              "      <td>66.6792</td>\n",
              "      <td>0</td>\n",
              "      <td>1</td>\n",
              "      <td>0</td>\n",
              "      <td>100</td>\n",
              "      <td>0</td>\n",
              "      <td>1</td>\n",
              "      <td>...</td>\n",
              "      <td>1</td>\n",
              "      <td>3</td>\n",
              "      <td>0</td>\n",
              "      <td>0</td>\n",
              "      <td>0</td>\n",
              "      <td>504</td>\n",
              "      <td>353</td>\n",
              "      <td>870</td>\n",
              "      <td>782</td>\n",
              "      <td>0</td>\n",
              "    </tr>\n",
              "  </tbody>\n",
              "</table>\n",
              "<p>5 rows × 23 columns</p>\n",
              "</div>\n",
              "    <div class=\"colab-df-buttons\">\n",
              "\n",
              "  <div class=\"colab-df-container\">\n",
              "    <button class=\"colab-df-convert\" onclick=\"convertToInteractive('df-58a02f66-9bfd-41c6-b3b0-977d6eeac9ba')\"\n",
              "            title=\"Convert this dataframe to an interactive table.\"\n",
              "            style=\"display:none;\">\n",
              "\n",
              "  <svg xmlns=\"http://www.w3.org/2000/svg\" height=\"24px\" viewBox=\"0 -960 960 960\">\n",
              "    <path d=\"M120-120v-720h720v720H120Zm60-500h600v-160H180v160Zm220 220h160v-160H400v160Zm0 220h160v-160H400v160ZM180-400h160v-160H180v160Zm440 0h160v-160H620v160ZM180-180h160v-160H180v160Zm440 0h160v-160H620v160Z\"/>\n",
              "  </svg>\n",
              "    </button>\n",
              "\n",
              "  <style>\n",
              "    .colab-df-container {\n",
              "      display:flex;\n",
              "      gap: 12px;\n",
              "    }\n",
              "\n",
              "    .colab-df-convert {\n",
              "      background-color: #E8F0FE;\n",
              "      border: none;\n",
              "      border-radius: 50%;\n",
              "      cursor: pointer;\n",
              "      display: none;\n",
              "      fill: #1967D2;\n",
              "      height: 32px;\n",
              "      padding: 0 0 0 0;\n",
              "      width: 32px;\n",
              "    }\n",
              "\n",
              "    .colab-df-convert:hover {\n",
              "      background-color: #E2EBFA;\n",
              "      box-shadow: 0px 1px 2px rgba(60, 64, 67, 0.3), 0px 1px 3px 1px rgba(60, 64, 67, 0.15);\n",
              "      fill: #174EA6;\n",
              "    }\n",
              "\n",
              "    .colab-df-buttons div {\n",
              "      margin-bottom: 4px;\n",
              "    }\n",
              "\n",
              "    [theme=dark] .colab-df-convert {\n",
              "      background-color: #3B4455;\n",
              "      fill: #D2E3FC;\n",
              "    }\n",
              "\n",
              "    [theme=dark] .colab-df-convert:hover {\n",
              "      background-color: #434B5C;\n",
              "      box-shadow: 0px 1px 3px 1px rgba(0, 0, 0, 0.15);\n",
              "      filter: drop-shadow(0px 1px 2px rgba(0, 0, 0, 0.3));\n",
              "      fill: #FFFFFF;\n",
              "    }\n",
              "  </style>\n",
              "\n",
              "    <script>\n",
              "      const buttonEl =\n",
              "        document.querySelector('#df-58a02f66-9bfd-41c6-b3b0-977d6eeac9ba button.colab-df-convert');\n",
              "      buttonEl.style.display =\n",
              "        google.colab.kernel.accessAllowed ? 'block' : 'none';\n",
              "\n",
              "      async function convertToInteractive(key) {\n",
              "        const element = document.querySelector('#df-58a02f66-9bfd-41c6-b3b0-977d6eeac9ba');\n",
              "        const dataTable =\n",
              "          await google.colab.kernel.invokeFunction('convertToInteractive',\n",
              "                                                    [key], {});\n",
              "        if (!dataTable) return;\n",
              "\n",
              "        const docLinkHtml = 'Like what you see? Visit the ' +\n",
              "          '<a target=\"_blank\" href=https://colab.research.google.com/notebooks/data_table.ipynb>data table notebook</a>'\n",
              "          + ' to learn more about interactive tables.';\n",
              "        element.innerHTML = '';\n",
              "        dataTable['output_type'] = 'display_data';\n",
              "        await google.colab.output.renderOutput(dataTable, element);\n",
              "        const docLink = document.createElement('div');\n",
              "        docLink.innerHTML = docLinkHtml;\n",
              "        element.appendChild(docLink);\n",
              "      }\n",
              "    </script>\n",
              "  </div>\n",
              "\n",
              "\n",
              "<div id=\"df-00b311c3-3ad5-43d8-8961-73d36b7eef9b\">\n",
              "  <button class=\"colab-df-quickchart\" onclick=\"quickchart('df-00b311c3-3ad5-43d8-8961-73d36b7eef9b')\"\n",
              "            title=\"Suggest charts\"\n",
              "            style=\"display:none;\">\n",
              "\n",
              "<svg xmlns=\"http://www.w3.org/2000/svg\" height=\"24px\"viewBox=\"0 0 24 24\"\n",
              "     width=\"24px\">\n",
              "    <g>\n",
              "        <path d=\"M19 3H5c-1.1 0-2 .9-2 2v14c0 1.1.9 2 2 2h14c1.1 0 2-.9 2-2V5c0-1.1-.9-2-2-2zM9 17H7v-7h2v7zm4 0h-2V7h2v10zm4 0h-2v-4h2v4z\"/>\n",
              "    </g>\n",
              "</svg>\n",
              "  </button>\n",
              "\n",
              "<style>\n",
              "  .colab-df-quickchart {\n",
              "      --bg-color: #E8F0FE;\n",
              "      --fill-color: #1967D2;\n",
              "      --hover-bg-color: #E2EBFA;\n",
              "      --hover-fill-color: #174EA6;\n",
              "      --disabled-fill-color: #AAA;\n",
              "      --disabled-bg-color: #DDD;\n",
              "  }\n",
              "\n",
              "  [theme=dark] .colab-df-quickchart {\n",
              "      --bg-color: #3B4455;\n",
              "      --fill-color: #D2E3FC;\n",
              "      --hover-bg-color: #434B5C;\n",
              "      --hover-fill-color: #FFFFFF;\n",
              "      --disabled-bg-color: #3B4455;\n",
              "      --disabled-fill-color: #666;\n",
              "  }\n",
              "\n",
              "  .colab-df-quickchart {\n",
              "    background-color: var(--bg-color);\n",
              "    border: none;\n",
              "    border-radius: 50%;\n",
              "    cursor: pointer;\n",
              "    display: none;\n",
              "    fill: var(--fill-color);\n",
              "    height: 32px;\n",
              "    padding: 0;\n",
              "    width: 32px;\n",
              "  }\n",
              "\n",
              "  .colab-df-quickchart:hover {\n",
              "    background-color: var(--hover-bg-color);\n",
              "    box-shadow: 0 1px 2px rgba(60, 64, 67, 0.3), 0 1px 3px 1px rgba(60, 64, 67, 0.15);\n",
              "    fill: var(--button-hover-fill-color);\n",
              "  }\n",
              "\n",
              "  .colab-df-quickchart-complete:disabled,\n",
              "  .colab-df-quickchart-complete:disabled:hover {\n",
              "    background-color: var(--disabled-bg-color);\n",
              "    fill: var(--disabled-fill-color);\n",
              "    box-shadow: none;\n",
              "  }\n",
              "\n",
              "  .colab-df-spinner {\n",
              "    border: 2px solid var(--fill-color);\n",
              "    border-color: transparent;\n",
              "    border-bottom-color: var(--fill-color);\n",
              "    animation:\n",
              "      spin 1s steps(1) infinite;\n",
              "  }\n",
              "\n",
              "  @keyframes spin {\n",
              "    0% {\n",
              "      border-color: transparent;\n",
              "      border-bottom-color: var(--fill-color);\n",
              "      border-left-color: var(--fill-color);\n",
              "    }\n",
              "    20% {\n",
              "      border-color: transparent;\n",
              "      border-left-color: var(--fill-color);\n",
              "      border-top-color: var(--fill-color);\n",
              "    }\n",
              "    30% {\n",
              "      border-color: transparent;\n",
              "      border-left-color: var(--fill-color);\n",
              "      border-top-color: var(--fill-color);\n",
              "      border-right-color: var(--fill-color);\n",
              "    }\n",
              "    40% {\n",
              "      border-color: transparent;\n",
              "      border-right-color: var(--fill-color);\n",
              "      border-top-color: var(--fill-color);\n",
              "    }\n",
              "    60% {\n",
              "      border-color: transparent;\n",
              "      border-right-color: var(--fill-color);\n",
              "    }\n",
              "    80% {\n",
              "      border-color: transparent;\n",
              "      border-right-color: var(--fill-color);\n",
              "      border-bottom-color: var(--fill-color);\n",
              "    }\n",
              "    90% {\n",
              "      border-color: transparent;\n",
              "      border-bottom-color: var(--fill-color);\n",
              "    }\n",
              "  }\n",
              "</style>\n",
              "\n",
              "  <script>\n",
              "    async function quickchart(key) {\n",
              "      const quickchartButtonEl =\n",
              "        document.querySelector('#' + key + ' button');\n",
              "      quickchartButtonEl.disabled = true;  // To prevent multiple clicks.\n",
              "      quickchartButtonEl.classList.add('colab-df-spinner');\n",
              "      try {\n",
              "        const charts = await google.colab.kernel.invokeFunction(\n",
              "            'suggestCharts', [key], {});\n",
              "      } catch (error) {\n",
              "        console.error('Error during call to suggestCharts:', error);\n",
              "      }\n",
              "      quickchartButtonEl.classList.remove('colab-df-spinner');\n",
              "      quickchartButtonEl.classList.add('colab-df-quickchart-complete');\n",
              "    }\n",
              "    (() => {\n",
              "      let quickchartButtonEl =\n",
              "        document.querySelector('#df-00b311c3-3ad5-43d8-8961-73d36b7eef9b button');\n",
              "      quickchartButtonEl.style.display =\n",
              "        google.colab.kernel.accessAllowed ? 'block' : 'none';\n",
              "    })();\n",
              "  </script>\n",
              "</div>\n",
              "\n",
              "    </div>\n",
              "  </div>\n"
            ],
            "application/vnd.google.colaboratory.intrinsic+json": {
              "type": "dataframe",
              "variable_name": "df_2k"
            }
          },
          "metadata": {},
          "execution_count": 4
        }
      ],
      "source": [
        "# viewin the head data\n",
        "df_2k.head()"
      ]
    },
    {
      "cell_type": "code",
      "execution_count": 5,
      "metadata": {
        "colab": {
          "base_uri": "https://localhost:8080/",
          "height": 0
        },
        "id": "t2Mo-CKsp7K9",
        "outputId": "f0e7aed9-b85f-492d-ed82-3d085e7baaea"
      },
      "outputs": [
        {
          "output_type": "execute_result",
          "data": {
            "text/plain": [
              "              time          trt          age         wtkg         hemo  \\\n",
              "count  2139.000000  2139.000000  2139.000000  2139.000000  2139.000000   \n",
              "mean    879.098177     1.520804    35.248247    75.125311     0.084151   \n",
              "std     292.274324     1.127890     8.709026    13.263164     0.277680   \n",
              "min      14.000000     0.000000    12.000000    31.000000     0.000000   \n",
              "25%     727.000000     1.000000    29.000000    66.679200     0.000000   \n",
              "50%     997.000000     2.000000    34.000000    74.390400     0.000000   \n",
              "75%    1091.000000     3.000000    40.000000    82.555200     0.000000   \n",
              "max    1231.000000     3.000000    70.000000   159.939360     1.000000   \n",
              "\n",
              "              homo        drugs       karnof       oprior          z30  ...  \\\n",
              "count  2139.000000  2139.000000  2139.000000  2139.000000  2139.000000  ...   \n",
              "mean      0.661057     0.131370    95.446470     0.021973     0.550257  ...   \n",
              "std       0.473461     0.337883     5.900985     0.146629     0.497584  ...   \n",
              "min       0.000000     0.000000    70.000000     0.000000     0.000000  ...   \n",
              "25%       0.000000     0.000000    90.000000     0.000000     0.000000  ...   \n",
              "50%       1.000000     0.000000   100.000000     0.000000     1.000000  ...   \n",
              "75%       1.000000     0.000000   100.000000     0.000000     1.000000  ...   \n",
              "max       1.000000     1.000000   100.000000     1.000000     1.000000  ...   \n",
              "\n",
              "              str2        strat      symptom        treat       offtrt  \\\n",
              "count  2139.000000  2139.000000  2139.000000  2139.000000  2139.000000   \n",
              "mean      0.585788     1.979897     0.172978     0.751286     0.362786   \n",
              "std       0.492701     0.899053     0.378317     0.432369     0.480916   \n",
              "min       0.000000     1.000000     0.000000     0.000000     0.000000   \n",
              "25%       0.000000     1.000000     0.000000     1.000000     0.000000   \n",
              "50%       1.000000     2.000000     0.000000     1.000000     0.000000   \n",
              "75%       1.000000     3.000000     0.000000     1.000000     1.000000   \n",
              "max       1.000000     3.000000     1.000000     1.000000     1.000000   \n",
              "\n",
              "              cd40        cd420         cd80        cd820     infected  \n",
              "count  2139.000000  2139.000000  2139.000000  2139.000000  2139.000000  \n",
              "mean    350.501169   371.307153   986.627396   935.369799     0.243572  \n",
              "std     118.573863   144.634909   480.197750   444.976051     0.429338  \n",
              "min       0.000000    49.000000    40.000000   124.000000     0.000000  \n",
              "25%     263.500000   269.000000   654.000000   631.500000     0.000000  \n",
              "50%     340.000000   353.000000   893.000000   865.000000     0.000000  \n",
              "75%     423.000000   460.000000  1207.000000  1146.500000     0.000000  \n",
              "max    1199.000000  1119.000000  5011.000000  6035.000000     1.000000  \n",
              "\n",
              "[8 rows x 23 columns]"
            ],
            "text/html": [
              "\n",
              "  <div id=\"df-9cea3091-c9a7-4685-9120-8c25b2f5270f\" class=\"colab-df-container\">\n",
              "    <div>\n",
              "<style scoped>\n",
              "    .dataframe tbody tr th:only-of-type {\n",
              "        vertical-align: middle;\n",
              "    }\n",
              "\n",
              "    .dataframe tbody tr th {\n",
              "        vertical-align: top;\n",
              "    }\n",
              "\n",
              "    .dataframe thead th {\n",
              "        text-align: right;\n",
              "    }\n",
              "</style>\n",
              "<table border=\"1\" class=\"dataframe\">\n",
              "  <thead>\n",
              "    <tr style=\"text-align: right;\">\n",
              "      <th></th>\n",
              "      <th>time</th>\n",
              "      <th>trt</th>\n",
              "      <th>age</th>\n",
              "      <th>wtkg</th>\n",
              "      <th>hemo</th>\n",
              "      <th>homo</th>\n",
              "      <th>drugs</th>\n",
              "      <th>karnof</th>\n",
              "      <th>oprior</th>\n",
              "      <th>z30</th>\n",
              "      <th>...</th>\n",
              "      <th>str2</th>\n",
              "      <th>strat</th>\n",
              "      <th>symptom</th>\n",
              "      <th>treat</th>\n",
              "      <th>offtrt</th>\n",
              "      <th>cd40</th>\n",
              "      <th>cd420</th>\n",
              "      <th>cd80</th>\n",
              "      <th>cd820</th>\n",
              "      <th>infected</th>\n",
              "    </tr>\n",
              "  </thead>\n",
              "  <tbody>\n",
              "    <tr>\n",
              "      <th>count</th>\n",
              "      <td>2139.000000</td>\n",
              "      <td>2139.000000</td>\n",
              "      <td>2139.000000</td>\n",
              "      <td>2139.000000</td>\n",
              "      <td>2139.000000</td>\n",
              "      <td>2139.000000</td>\n",
              "      <td>2139.000000</td>\n",
              "      <td>2139.000000</td>\n",
              "      <td>2139.000000</td>\n",
              "      <td>2139.000000</td>\n",
              "      <td>...</td>\n",
              "      <td>2139.000000</td>\n",
              "      <td>2139.000000</td>\n",
              "      <td>2139.000000</td>\n",
              "      <td>2139.000000</td>\n",
              "      <td>2139.000000</td>\n",
              "      <td>2139.000000</td>\n",
              "      <td>2139.000000</td>\n",
              "      <td>2139.000000</td>\n",
              "      <td>2139.000000</td>\n",
              "      <td>2139.000000</td>\n",
              "    </tr>\n",
              "    <tr>\n",
              "      <th>mean</th>\n",
              "      <td>879.098177</td>\n",
              "      <td>1.520804</td>\n",
              "      <td>35.248247</td>\n",
              "      <td>75.125311</td>\n",
              "      <td>0.084151</td>\n",
              "      <td>0.661057</td>\n",
              "      <td>0.131370</td>\n",
              "      <td>95.446470</td>\n",
              "      <td>0.021973</td>\n",
              "      <td>0.550257</td>\n",
              "      <td>...</td>\n",
              "      <td>0.585788</td>\n",
              "      <td>1.979897</td>\n",
              "      <td>0.172978</td>\n",
              "      <td>0.751286</td>\n",
              "      <td>0.362786</td>\n",
              "      <td>350.501169</td>\n",
              "      <td>371.307153</td>\n",
              "      <td>986.627396</td>\n",
              "      <td>935.369799</td>\n",
              "      <td>0.243572</td>\n",
              "    </tr>\n",
              "    <tr>\n",
              "      <th>std</th>\n",
              "      <td>292.274324</td>\n",
              "      <td>1.127890</td>\n",
              "      <td>8.709026</td>\n",
              "      <td>13.263164</td>\n",
              "      <td>0.277680</td>\n",
              "      <td>0.473461</td>\n",
              "      <td>0.337883</td>\n",
              "      <td>5.900985</td>\n",
              "      <td>0.146629</td>\n",
              "      <td>0.497584</td>\n",
              "      <td>...</td>\n",
              "      <td>0.492701</td>\n",
              "      <td>0.899053</td>\n",
              "      <td>0.378317</td>\n",
              "      <td>0.432369</td>\n",
              "      <td>0.480916</td>\n",
              "      <td>118.573863</td>\n",
              "      <td>144.634909</td>\n",
              "      <td>480.197750</td>\n",
              "      <td>444.976051</td>\n",
              "      <td>0.429338</td>\n",
              "    </tr>\n",
              "    <tr>\n",
              "      <th>min</th>\n",
              "      <td>14.000000</td>\n",
              "      <td>0.000000</td>\n",
              "      <td>12.000000</td>\n",
              "      <td>31.000000</td>\n",
              "      <td>0.000000</td>\n",
              "      <td>0.000000</td>\n",
              "      <td>0.000000</td>\n",
              "      <td>70.000000</td>\n",
              "      <td>0.000000</td>\n",
              "      <td>0.000000</td>\n",
              "      <td>...</td>\n",
              "      <td>0.000000</td>\n",
              "      <td>1.000000</td>\n",
              "      <td>0.000000</td>\n",
              "      <td>0.000000</td>\n",
              "      <td>0.000000</td>\n",
              "      <td>0.000000</td>\n",
              "      <td>49.000000</td>\n",
              "      <td>40.000000</td>\n",
              "      <td>124.000000</td>\n",
              "      <td>0.000000</td>\n",
              "    </tr>\n",
              "    <tr>\n",
              "      <th>25%</th>\n",
              "      <td>727.000000</td>\n",
              "      <td>1.000000</td>\n",
              "      <td>29.000000</td>\n",
              "      <td>66.679200</td>\n",
              "      <td>0.000000</td>\n",
              "      <td>0.000000</td>\n",
              "      <td>0.000000</td>\n",
              "      <td>90.000000</td>\n",
              "      <td>0.000000</td>\n",
              "      <td>0.000000</td>\n",
              "      <td>...</td>\n",
              "      <td>0.000000</td>\n",
              "      <td>1.000000</td>\n",
              "      <td>0.000000</td>\n",
              "      <td>1.000000</td>\n",
              "      <td>0.000000</td>\n",
              "      <td>263.500000</td>\n",
              "      <td>269.000000</td>\n",
              "      <td>654.000000</td>\n",
              "      <td>631.500000</td>\n",
              "      <td>0.000000</td>\n",
              "    </tr>\n",
              "    <tr>\n",
              "      <th>50%</th>\n",
              "      <td>997.000000</td>\n",
              "      <td>2.000000</td>\n",
              "      <td>34.000000</td>\n",
              "      <td>74.390400</td>\n",
              "      <td>0.000000</td>\n",
              "      <td>1.000000</td>\n",
              "      <td>0.000000</td>\n",
              "      <td>100.000000</td>\n",
              "      <td>0.000000</td>\n",
              "      <td>1.000000</td>\n",
              "      <td>...</td>\n",
              "      <td>1.000000</td>\n",
              "      <td>2.000000</td>\n",
              "      <td>0.000000</td>\n",
              "      <td>1.000000</td>\n",
              "      <td>0.000000</td>\n",
              "      <td>340.000000</td>\n",
              "      <td>353.000000</td>\n",
              "      <td>893.000000</td>\n",
              "      <td>865.000000</td>\n",
              "      <td>0.000000</td>\n",
              "    </tr>\n",
              "    <tr>\n",
              "      <th>75%</th>\n",
              "      <td>1091.000000</td>\n",
              "      <td>3.000000</td>\n",
              "      <td>40.000000</td>\n",
              "      <td>82.555200</td>\n",
              "      <td>0.000000</td>\n",
              "      <td>1.000000</td>\n",
              "      <td>0.000000</td>\n",
              "      <td>100.000000</td>\n",
              "      <td>0.000000</td>\n",
              "      <td>1.000000</td>\n",
              "      <td>...</td>\n",
              "      <td>1.000000</td>\n",
              "      <td>3.000000</td>\n",
              "      <td>0.000000</td>\n",
              "      <td>1.000000</td>\n",
              "      <td>1.000000</td>\n",
              "      <td>423.000000</td>\n",
              "      <td>460.000000</td>\n",
              "      <td>1207.000000</td>\n",
              "      <td>1146.500000</td>\n",
              "      <td>0.000000</td>\n",
              "    </tr>\n",
              "    <tr>\n",
              "      <th>max</th>\n",
              "      <td>1231.000000</td>\n",
              "      <td>3.000000</td>\n",
              "      <td>70.000000</td>\n",
              "      <td>159.939360</td>\n",
              "      <td>1.000000</td>\n",
              "      <td>1.000000</td>\n",
              "      <td>1.000000</td>\n",
              "      <td>100.000000</td>\n",
              "      <td>1.000000</td>\n",
              "      <td>1.000000</td>\n",
              "      <td>...</td>\n",
              "      <td>1.000000</td>\n",
              "      <td>3.000000</td>\n",
              "      <td>1.000000</td>\n",
              "      <td>1.000000</td>\n",
              "      <td>1.000000</td>\n",
              "      <td>1199.000000</td>\n",
              "      <td>1119.000000</td>\n",
              "      <td>5011.000000</td>\n",
              "      <td>6035.000000</td>\n",
              "      <td>1.000000</td>\n",
              "    </tr>\n",
              "  </tbody>\n",
              "</table>\n",
              "<p>8 rows × 23 columns</p>\n",
              "</div>\n",
              "    <div class=\"colab-df-buttons\">\n",
              "\n",
              "  <div class=\"colab-df-container\">\n",
              "    <button class=\"colab-df-convert\" onclick=\"convertToInteractive('df-9cea3091-c9a7-4685-9120-8c25b2f5270f')\"\n",
              "            title=\"Convert this dataframe to an interactive table.\"\n",
              "            style=\"display:none;\">\n",
              "\n",
              "  <svg xmlns=\"http://www.w3.org/2000/svg\" height=\"24px\" viewBox=\"0 -960 960 960\">\n",
              "    <path d=\"M120-120v-720h720v720H120Zm60-500h600v-160H180v160Zm220 220h160v-160H400v160Zm0 220h160v-160H400v160ZM180-400h160v-160H180v160Zm440 0h160v-160H620v160ZM180-180h160v-160H180v160Zm440 0h160v-160H620v160Z\"/>\n",
              "  </svg>\n",
              "    </button>\n",
              "\n",
              "  <style>\n",
              "    .colab-df-container {\n",
              "      display:flex;\n",
              "      gap: 12px;\n",
              "    }\n",
              "\n",
              "    .colab-df-convert {\n",
              "      background-color: #E8F0FE;\n",
              "      border: none;\n",
              "      border-radius: 50%;\n",
              "      cursor: pointer;\n",
              "      display: none;\n",
              "      fill: #1967D2;\n",
              "      height: 32px;\n",
              "      padding: 0 0 0 0;\n",
              "      width: 32px;\n",
              "    }\n",
              "\n",
              "    .colab-df-convert:hover {\n",
              "      background-color: #E2EBFA;\n",
              "      box-shadow: 0px 1px 2px rgba(60, 64, 67, 0.3), 0px 1px 3px 1px rgba(60, 64, 67, 0.15);\n",
              "      fill: #174EA6;\n",
              "    }\n",
              "\n",
              "    .colab-df-buttons div {\n",
              "      margin-bottom: 4px;\n",
              "    }\n",
              "\n",
              "    [theme=dark] .colab-df-convert {\n",
              "      background-color: #3B4455;\n",
              "      fill: #D2E3FC;\n",
              "    }\n",
              "\n",
              "    [theme=dark] .colab-df-convert:hover {\n",
              "      background-color: #434B5C;\n",
              "      box-shadow: 0px 1px 3px 1px rgba(0, 0, 0, 0.15);\n",
              "      filter: drop-shadow(0px 1px 2px rgba(0, 0, 0, 0.3));\n",
              "      fill: #FFFFFF;\n",
              "    }\n",
              "  </style>\n",
              "\n",
              "    <script>\n",
              "      const buttonEl =\n",
              "        document.querySelector('#df-9cea3091-c9a7-4685-9120-8c25b2f5270f button.colab-df-convert');\n",
              "      buttonEl.style.display =\n",
              "        google.colab.kernel.accessAllowed ? 'block' : 'none';\n",
              "\n",
              "      async function convertToInteractive(key) {\n",
              "        const element = document.querySelector('#df-9cea3091-c9a7-4685-9120-8c25b2f5270f');\n",
              "        const dataTable =\n",
              "          await google.colab.kernel.invokeFunction('convertToInteractive',\n",
              "                                                    [key], {});\n",
              "        if (!dataTable) return;\n",
              "\n",
              "        const docLinkHtml = 'Like what you see? Visit the ' +\n",
              "          '<a target=\"_blank\" href=https://colab.research.google.com/notebooks/data_table.ipynb>data table notebook</a>'\n",
              "          + ' to learn more about interactive tables.';\n",
              "        element.innerHTML = '';\n",
              "        dataTable['output_type'] = 'display_data';\n",
              "        await google.colab.output.renderOutput(dataTable, element);\n",
              "        const docLink = document.createElement('div');\n",
              "        docLink.innerHTML = docLinkHtml;\n",
              "        element.appendChild(docLink);\n",
              "      }\n",
              "    </script>\n",
              "  </div>\n",
              "\n",
              "\n",
              "<div id=\"df-89b51b0b-ef6c-4e78-a9c1-e48c4de2088e\">\n",
              "  <button class=\"colab-df-quickchart\" onclick=\"quickchart('df-89b51b0b-ef6c-4e78-a9c1-e48c4de2088e')\"\n",
              "            title=\"Suggest charts\"\n",
              "            style=\"display:none;\">\n",
              "\n",
              "<svg xmlns=\"http://www.w3.org/2000/svg\" height=\"24px\"viewBox=\"0 0 24 24\"\n",
              "     width=\"24px\">\n",
              "    <g>\n",
              "        <path d=\"M19 3H5c-1.1 0-2 .9-2 2v14c0 1.1.9 2 2 2h14c1.1 0 2-.9 2-2V5c0-1.1-.9-2-2-2zM9 17H7v-7h2v7zm4 0h-2V7h2v10zm4 0h-2v-4h2v4z\"/>\n",
              "    </g>\n",
              "</svg>\n",
              "  </button>\n",
              "\n",
              "<style>\n",
              "  .colab-df-quickchart {\n",
              "      --bg-color: #E8F0FE;\n",
              "      --fill-color: #1967D2;\n",
              "      --hover-bg-color: #E2EBFA;\n",
              "      --hover-fill-color: #174EA6;\n",
              "      --disabled-fill-color: #AAA;\n",
              "      --disabled-bg-color: #DDD;\n",
              "  }\n",
              "\n",
              "  [theme=dark] .colab-df-quickchart {\n",
              "      --bg-color: #3B4455;\n",
              "      --fill-color: #D2E3FC;\n",
              "      --hover-bg-color: #434B5C;\n",
              "      --hover-fill-color: #FFFFFF;\n",
              "      --disabled-bg-color: #3B4455;\n",
              "      --disabled-fill-color: #666;\n",
              "  }\n",
              "\n",
              "  .colab-df-quickchart {\n",
              "    background-color: var(--bg-color);\n",
              "    border: none;\n",
              "    border-radius: 50%;\n",
              "    cursor: pointer;\n",
              "    display: none;\n",
              "    fill: var(--fill-color);\n",
              "    height: 32px;\n",
              "    padding: 0;\n",
              "    width: 32px;\n",
              "  }\n",
              "\n",
              "  .colab-df-quickchart:hover {\n",
              "    background-color: var(--hover-bg-color);\n",
              "    box-shadow: 0 1px 2px rgba(60, 64, 67, 0.3), 0 1px 3px 1px rgba(60, 64, 67, 0.15);\n",
              "    fill: var(--button-hover-fill-color);\n",
              "  }\n",
              "\n",
              "  .colab-df-quickchart-complete:disabled,\n",
              "  .colab-df-quickchart-complete:disabled:hover {\n",
              "    background-color: var(--disabled-bg-color);\n",
              "    fill: var(--disabled-fill-color);\n",
              "    box-shadow: none;\n",
              "  }\n",
              "\n",
              "  .colab-df-spinner {\n",
              "    border: 2px solid var(--fill-color);\n",
              "    border-color: transparent;\n",
              "    border-bottom-color: var(--fill-color);\n",
              "    animation:\n",
              "      spin 1s steps(1) infinite;\n",
              "  }\n",
              "\n",
              "  @keyframes spin {\n",
              "    0% {\n",
              "      border-color: transparent;\n",
              "      border-bottom-color: var(--fill-color);\n",
              "      border-left-color: var(--fill-color);\n",
              "    }\n",
              "    20% {\n",
              "      border-color: transparent;\n",
              "      border-left-color: var(--fill-color);\n",
              "      border-top-color: var(--fill-color);\n",
              "    }\n",
              "    30% {\n",
              "      border-color: transparent;\n",
              "      border-left-color: var(--fill-color);\n",
              "      border-top-color: var(--fill-color);\n",
              "      border-right-color: var(--fill-color);\n",
              "    }\n",
              "    40% {\n",
              "      border-color: transparent;\n",
              "      border-right-color: var(--fill-color);\n",
              "      border-top-color: var(--fill-color);\n",
              "    }\n",
              "    60% {\n",
              "      border-color: transparent;\n",
              "      border-right-color: var(--fill-color);\n",
              "    }\n",
              "    80% {\n",
              "      border-color: transparent;\n",
              "      border-right-color: var(--fill-color);\n",
              "      border-bottom-color: var(--fill-color);\n",
              "    }\n",
              "    90% {\n",
              "      border-color: transparent;\n",
              "      border-bottom-color: var(--fill-color);\n",
              "    }\n",
              "  }\n",
              "</style>\n",
              "\n",
              "  <script>\n",
              "    async function quickchart(key) {\n",
              "      const quickchartButtonEl =\n",
              "        document.querySelector('#' + key + ' button');\n",
              "      quickchartButtonEl.disabled = true;  // To prevent multiple clicks.\n",
              "      quickchartButtonEl.classList.add('colab-df-spinner');\n",
              "      try {\n",
              "        const charts = await google.colab.kernel.invokeFunction(\n",
              "            'suggestCharts', [key], {});\n",
              "      } catch (error) {\n",
              "        console.error('Error during call to suggestCharts:', error);\n",
              "      }\n",
              "      quickchartButtonEl.classList.remove('colab-df-spinner');\n",
              "      quickchartButtonEl.classList.add('colab-df-quickchart-complete');\n",
              "    }\n",
              "    (() => {\n",
              "      let quickchartButtonEl =\n",
              "        document.querySelector('#df-89b51b0b-ef6c-4e78-a9c1-e48c4de2088e button');\n",
              "      quickchartButtonEl.style.display =\n",
              "        google.colab.kernel.accessAllowed ? 'block' : 'none';\n",
              "    })();\n",
              "  </script>\n",
              "</div>\n",
              "\n",
              "    </div>\n",
              "  </div>\n"
            ],
            "application/vnd.google.colaboratory.intrinsic+json": {
              "type": "dataframe"
            }
          },
          "metadata": {},
          "execution_count": 5
        }
      ],
      "source": [
        "# viewing the cases distributions\n",
        "df_2k.describe()"
      ]
    },
    {
      "cell_type": "code",
      "execution_count": 6,
      "metadata": {
        "colab": {
          "base_uri": "https://localhost:8080/"
        },
        "id": "0YlDPTe-qSPl",
        "outputId": "77e347e5-5bbd-44a9-dd3b-c06537f39476"
      },
      "outputs": [
        {
          "output_type": "execute_result",
          "data": {
            "text/plain": [
              "time        0\n",
              "trt         0\n",
              "age         0\n",
              "wtkg        0\n",
              "hemo        0\n",
              "homo        0\n",
              "drugs       0\n",
              "karnof      0\n",
              "oprior      0\n",
              "z30         0\n",
              "preanti     0\n",
              "race        0\n",
              "gender      0\n",
              "str2        0\n",
              "strat       0\n",
              "symptom     0\n",
              "treat       0\n",
              "offtrt      0\n",
              "cd40        0\n",
              "cd420       0\n",
              "cd80        0\n",
              "cd820       0\n",
              "infected    0\n",
              "dtype: int64"
            ]
          },
          "metadata": {},
          "execution_count": 6
        }
      ],
      "source": [
        "# Check if null exists\n",
        "df_2k.isnull().sum()"
      ]
    },
    {
      "cell_type": "markdown",
      "metadata": {
        "id": "rXEpOukJqXCN"
      },
      "source": [
        "Since there is no null values, we can proceed with the algorithms creation."
      ]
    },
    {
      "cell_type": "markdown",
      "metadata": {
        "id": "_IHNvFzIIXID"
      },
      "source": [
        "# Building Datasets\n"
      ]
    },
    {
      "cell_type": "code",
      "execution_count": 7,
      "metadata": {
        "id": "yWdzLjQiKb0P"
      },
      "outputs": [],
      "source": [
        "# Reading the data\n",
        "data_dic = {} # to store dataframes\n",
        "data_dic[\"df_2k\"] = df_2k\n",
        "\n",
        "# reading all other three files\n",
        "df_5k = pd.read_csv(\"AIDS_Classification_5000.csv\")\n",
        "df_15k = pd.read_csv(\"AIDS_Classification_15000.csv\")\n",
        "df_50k = pd.read_csv(\"AIDS_Classification_50000.csv\")\n",
        "\n",
        "# adding the dataframes to the dictionary\n",
        "data_dic[\"df_5k\"] = df_5k\n",
        "data_dic[\"df_15k\"] = df_15k\n",
        "data_dic[\"df_50k\"] = df_50k"
      ]
    },
    {
      "cell_type": "code",
      "execution_count": 8,
      "metadata": {
        "colab": {
          "base_uri": "https://localhost:8080/"
        },
        "id": "DdchaOioKvbk",
        "outputId": "6ec3e4f4-b16a-4369-aa34-d77566efd529"
      },
      "outputs": [
        {
          "output_type": "execute_result",
          "data": {
            "text/plain": [
              "dict_keys(['df_2k', 'df_5k', 'df_15k', 'df_50k'])"
            ]
          },
          "metadata": {},
          "execution_count": 8
        }
      ],
      "source": [
        "data_dic.keys()"
      ]
    },
    {
      "cell_type": "code",
      "source": [
        "# We scale the dataset using min-max scaler\n",
        "from sklearn.preprocessing import MinMaxScaler\n",
        "scaler = MinMaxScaler(feature_range=(0, 1))"
      ],
      "metadata": {
        "id": "WnNWn8EYBtQk"
      },
      "execution_count": 10,
      "outputs": []
    },
    {
      "cell_type": "code",
      "source": [
        "# scaling all the dataframes\n",
        "\n",
        "for key, df in data_dic.items():\n",
        "  df[['time', 'age', 'wtkg', 'karnof', 'preanti', 'cd40', 'cd420', 'cd80', 'cd820']] = scaler.fit_transform(df[['time', 'age', 'wtkg', 'karnof', 'preanti', 'cd40', 'cd420', 'cd80', 'cd820']])"
      ],
      "metadata": {
        "id": "97nifMDBBvAa"
      },
      "execution_count": 11,
      "outputs": []
    },
    {
      "cell_type": "code",
      "source": [
        "# verify data has been scaled\n",
        "data_dic[\"df_2k\"].head(3)"
      ],
      "metadata": {
        "colab": {
          "base_uri": "https://localhost:8080/",
          "height": 193
        },
        "id": "IEJKy-W4BxWq",
        "outputId": "1265603e-fb5a-4c17-e9b4-353914d4ac54"
      },
      "execution_count": 12,
      "outputs": [
        {
          "output_type": "execute_result",
          "data": {
            "text/plain": [
              "       time  trt       age      wtkg  hemo  homo  drugs    karnof  oprior  \\\n",
              "0  0.767461    2  0.620690  0.456128     0     0      0  1.000000       0   \n",
              "1  0.811832    3  0.844828  0.143032     0     0      0  0.666667       0   \n",
              "2  0.778143    3  0.568966  0.445574     0     1      1  0.666667       0   \n",
              "\n",
              "   z30  ...  str2  strat  symptom  treat  offtrt      cd40     cd420  \\\n",
              "0    0  ...     0      1        0      1       0  0.351960  0.400000   \n",
              "1    1  ...     1      3        0      1       0  0.135113  0.157944   \n",
              "2    1  ...     1      3        0      1       1  0.271893  0.210280   \n",
              "\n",
              "       cd80     cd820  infected  \n",
              "0  0.105814  0.033835         0  \n",
              "1  0.070811  0.074437         1  \n",
              "2  0.406960  0.299273         0  \n",
              "\n",
              "[3 rows x 23 columns]"
            ],
            "text/html": [
              "\n",
              "  <div id=\"df-c9050fec-946d-42a9-8df2-2a146769bf87\" class=\"colab-df-container\">\n",
              "    <div>\n",
              "<style scoped>\n",
              "    .dataframe tbody tr th:only-of-type {\n",
              "        vertical-align: middle;\n",
              "    }\n",
              "\n",
              "    .dataframe tbody tr th {\n",
              "        vertical-align: top;\n",
              "    }\n",
              "\n",
              "    .dataframe thead th {\n",
              "        text-align: right;\n",
              "    }\n",
              "</style>\n",
              "<table border=\"1\" class=\"dataframe\">\n",
              "  <thead>\n",
              "    <tr style=\"text-align: right;\">\n",
              "      <th></th>\n",
              "      <th>time</th>\n",
              "      <th>trt</th>\n",
              "      <th>age</th>\n",
              "      <th>wtkg</th>\n",
              "      <th>hemo</th>\n",
              "      <th>homo</th>\n",
              "      <th>drugs</th>\n",
              "      <th>karnof</th>\n",
              "      <th>oprior</th>\n",
              "      <th>z30</th>\n",
              "      <th>...</th>\n",
              "      <th>str2</th>\n",
              "      <th>strat</th>\n",
              "      <th>symptom</th>\n",
              "      <th>treat</th>\n",
              "      <th>offtrt</th>\n",
              "      <th>cd40</th>\n",
              "      <th>cd420</th>\n",
              "      <th>cd80</th>\n",
              "      <th>cd820</th>\n",
              "      <th>infected</th>\n",
              "    </tr>\n",
              "  </thead>\n",
              "  <tbody>\n",
              "    <tr>\n",
              "      <th>0</th>\n",
              "      <td>0.767461</td>\n",
              "      <td>2</td>\n",
              "      <td>0.620690</td>\n",
              "      <td>0.456128</td>\n",
              "      <td>0</td>\n",
              "      <td>0</td>\n",
              "      <td>0</td>\n",
              "      <td>1.000000</td>\n",
              "      <td>0</td>\n",
              "      <td>0</td>\n",
              "      <td>...</td>\n",
              "      <td>0</td>\n",
              "      <td>1</td>\n",
              "      <td>0</td>\n",
              "      <td>1</td>\n",
              "      <td>0</td>\n",
              "      <td>0.351960</td>\n",
              "      <td>0.400000</td>\n",
              "      <td>0.105814</td>\n",
              "      <td>0.033835</td>\n",
              "      <td>0</td>\n",
              "    </tr>\n",
              "    <tr>\n",
              "      <th>1</th>\n",
              "      <td>0.811832</td>\n",
              "      <td>3</td>\n",
              "      <td>0.844828</td>\n",
              "      <td>0.143032</td>\n",
              "      <td>0</td>\n",
              "      <td>0</td>\n",
              "      <td>0</td>\n",
              "      <td>0.666667</td>\n",
              "      <td>0</td>\n",
              "      <td>1</td>\n",
              "      <td>...</td>\n",
              "      <td>1</td>\n",
              "      <td>3</td>\n",
              "      <td>0</td>\n",
              "      <td>1</td>\n",
              "      <td>0</td>\n",
              "      <td>0.135113</td>\n",
              "      <td>0.157944</td>\n",
              "      <td>0.070811</td>\n",
              "      <td>0.074437</td>\n",
              "      <td>1</td>\n",
              "    </tr>\n",
              "    <tr>\n",
              "      <th>2</th>\n",
              "      <td>0.778143</td>\n",
              "      <td>3</td>\n",
              "      <td>0.568966</td>\n",
              "      <td>0.445574</td>\n",
              "      <td>0</td>\n",
              "      <td>1</td>\n",
              "      <td>1</td>\n",
              "      <td>0.666667</td>\n",
              "      <td>0</td>\n",
              "      <td>1</td>\n",
              "      <td>...</td>\n",
              "      <td>1</td>\n",
              "      <td>3</td>\n",
              "      <td>0</td>\n",
              "      <td>1</td>\n",
              "      <td>1</td>\n",
              "      <td>0.271893</td>\n",
              "      <td>0.210280</td>\n",
              "      <td>0.406960</td>\n",
              "      <td>0.299273</td>\n",
              "      <td>0</td>\n",
              "    </tr>\n",
              "  </tbody>\n",
              "</table>\n",
              "<p>3 rows × 23 columns</p>\n",
              "</div>\n",
              "    <div class=\"colab-df-buttons\">\n",
              "\n",
              "  <div class=\"colab-df-container\">\n",
              "    <button class=\"colab-df-convert\" onclick=\"convertToInteractive('df-c9050fec-946d-42a9-8df2-2a146769bf87')\"\n",
              "            title=\"Convert this dataframe to an interactive table.\"\n",
              "            style=\"display:none;\">\n",
              "\n",
              "  <svg xmlns=\"http://www.w3.org/2000/svg\" height=\"24px\" viewBox=\"0 -960 960 960\">\n",
              "    <path d=\"M120-120v-720h720v720H120Zm60-500h600v-160H180v160Zm220 220h160v-160H400v160Zm0 220h160v-160H400v160ZM180-400h160v-160H180v160Zm440 0h160v-160H620v160ZM180-180h160v-160H180v160Zm440 0h160v-160H620v160Z\"/>\n",
              "  </svg>\n",
              "    </button>\n",
              "\n",
              "  <style>\n",
              "    .colab-df-container {\n",
              "      display:flex;\n",
              "      gap: 12px;\n",
              "    }\n",
              "\n",
              "    .colab-df-convert {\n",
              "      background-color: #E8F0FE;\n",
              "      border: none;\n",
              "      border-radius: 50%;\n",
              "      cursor: pointer;\n",
              "      display: none;\n",
              "      fill: #1967D2;\n",
              "      height: 32px;\n",
              "      padding: 0 0 0 0;\n",
              "      width: 32px;\n",
              "    }\n",
              "\n",
              "    .colab-df-convert:hover {\n",
              "      background-color: #E2EBFA;\n",
              "      box-shadow: 0px 1px 2px rgba(60, 64, 67, 0.3), 0px 1px 3px 1px rgba(60, 64, 67, 0.15);\n",
              "      fill: #174EA6;\n",
              "    }\n",
              "\n",
              "    .colab-df-buttons div {\n",
              "      margin-bottom: 4px;\n",
              "    }\n",
              "\n",
              "    [theme=dark] .colab-df-convert {\n",
              "      background-color: #3B4455;\n",
              "      fill: #D2E3FC;\n",
              "    }\n",
              "\n",
              "    [theme=dark] .colab-df-convert:hover {\n",
              "      background-color: #434B5C;\n",
              "      box-shadow: 0px 1px 3px 1px rgba(0, 0, 0, 0.15);\n",
              "      filter: drop-shadow(0px 1px 2px rgba(0, 0, 0, 0.3));\n",
              "      fill: #FFFFFF;\n",
              "    }\n",
              "  </style>\n",
              "\n",
              "    <script>\n",
              "      const buttonEl =\n",
              "        document.querySelector('#df-c9050fec-946d-42a9-8df2-2a146769bf87 button.colab-df-convert');\n",
              "      buttonEl.style.display =\n",
              "        google.colab.kernel.accessAllowed ? 'block' : 'none';\n",
              "\n",
              "      async function convertToInteractive(key) {\n",
              "        const element = document.querySelector('#df-c9050fec-946d-42a9-8df2-2a146769bf87');\n",
              "        const dataTable =\n",
              "          await google.colab.kernel.invokeFunction('convertToInteractive',\n",
              "                                                    [key], {});\n",
              "        if (!dataTable) return;\n",
              "\n",
              "        const docLinkHtml = 'Like what you see? Visit the ' +\n",
              "          '<a target=\"_blank\" href=https://colab.research.google.com/notebooks/data_table.ipynb>data table notebook</a>'\n",
              "          + ' to learn more about interactive tables.';\n",
              "        element.innerHTML = '';\n",
              "        dataTable['output_type'] = 'display_data';\n",
              "        await google.colab.output.renderOutput(dataTable, element);\n",
              "        const docLink = document.createElement('div');\n",
              "        docLink.innerHTML = docLinkHtml;\n",
              "        element.appendChild(docLink);\n",
              "      }\n",
              "    </script>\n",
              "  </div>\n",
              "\n",
              "\n",
              "<div id=\"df-2b2ad51f-87fa-45d8-8d66-a9e6800fe952\">\n",
              "  <button class=\"colab-df-quickchart\" onclick=\"quickchart('df-2b2ad51f-87fa-45d8-8d66-a9e6800fe952')\"\n",
              "            title=\"Suggest charts\"\n",
              "            style=\"display:none;\">\n",
              "\n",
              "<svg xmlns=\"http://www.w3.org/2000/svg\" height=\"24px\"viewBox=\"0 0 24 24\"\n",
              "     width=\"24px\">\n",
              "    <g>\n",
              "        <path d=\"M19 3H5c-1.1 0-2 .9-2 2v14c0 1.1.9 2 2 2h14c1.1 0 2-.9 2-2V5c0-1.1-.9-2-2-2zM9 17H7v-7h2v7zm4 0h-2V7h2v10zm4 0h-2v-4h2v4z\"/>\n",
              "    </g>\n",
              "</svg>\n",
              "  </button>\n",
              "\n",
              "<style>\n",
              "  .colab-df-quickchart {\n",
              "      --bg-color: #E8F0FE;\n",
              "      --fill-color: #1967D2;\n",
              "      --hover-bg-color: #E2EBFA;\n",
              "      --hover-fill-color: #174EA6;\n",
              "      --disabled-fill-color: #AAA;\n",
              "      --disabled-bg-color: #DDD;\n",
              "  }\n",
              "\n",
              "  [theme=dark] .colab-df-quickchart {\n",
              "      --bg-color: #3B4455;\n",
              "      --fill-color: #D2E3FC;\n",
              "      --hover-bg-color: #434B5C;\n",
              "      --hover-fill-color: #FFFFFF;\n",
              "      --disabled-bg-color: #3B4455;\n",
              "      --disabled-fill-color: #666;\n",
              "  }\n",
              "\n",
              "  .colab-df-quickchart {\n",
              "    background-color: var(--bg-color);\n",
              "    border: none;\n",
              "    border-radius: 50%;\n",
              "    cursor: pointer;\n",
              "    display: none;\n",
              "    fill: var(--fill-color);\n",
              "    height: 32px;\n",
              "    padding: 0;\n",
              "    width: 32px;\n",
              "  }\n",
              "\n",
              "  .colab-df-quickchart:hover {\n",
              "    background-color: var(--hover-bg-color);\n",
              "    box-shadow: 0 1px 2px rgba(60, 64, 67, 0.3), 0 1px 3px 1px rgba(60, 64, 67, 0.15);\n",
              "    fill: var(--button-hover-fill-color);\n",
              "  }\n",
              "\n",
              "  .colab-df-quickchart-complete:disabled,\n",
              "  .colab-df-quickchart-complete:disabled:hover {\n",
              "    background-color: var(--disabled-bg-color);\n",
              "    fill: var(--disabled-fill-color);\n",
              "    box-shadow: none;\n",
              "  }\n",
              "\n",
              "  .colab-df-spinner {\n",
              "    border: 2px solid var(--fill-color);\n",
              "    border-color: transparent;\n",
              "    border-bottom-color: var(--fill-color);\n",
              "    animation:\n",
              "      spin 1s steps(1) infinite;\n",
              "  }\n",
              "\n",
              "  @keyframes spin {\n",
              "    0% {\n",
              "      border-color: transparent;\n",
              "      border-bottom-color: var(--fill-color);\n",
              "      border-left-color: var(--fill-color);\n",
              "    }\n",
              "    20% {\n",
              "      border-color: transparent;\n",
              "      border-left-color: var(--fill-color);\n",
              "      border-top-color: var(--fill-color);\n",
              "    }\n",
              "    30% {\n",
              "      border-color: transparent;\n",
              "      border-left-color: var(--fill-color);\n",
              "      border-top-color: var(--fill-color);\n",
              "      border-right-color: var(--fill-color);\n",
              "    }\n",
              "    40% {\n",
              "      border-color: transparent;\n",
              "      border-right-color: var(--fill-color);\n",
              "      border-top-color: var(--fill-color);\n",
              "    }\n",
              "    60% {\n",
              "      border-color: transparent;\n",
              "      border-right-color: var(--fill-color);\n",
              "    }\n",
              "    80% {\n",
              "      border-color: transparent;\n",
              "      border-right-color: var(--fill-color);\n",
              "      border-bottom-color: var(--fill-color);\n",
              "    }\n",
              "    90% {\n",
              "      border-color: transparent;\n",
              "      border-bottom-color: var(--fill-color);\n",
              "    }\n",
              "  }\n",
              "</style>\n",
              "\n",
              "  <script>\n",
              "    async function quickchart(key) {\n",
              "      const quickchartButtonEl =\n",
              "        document.querySelector('#' + key + ' button');\n",
              "      quickchartButtonEl.disabled = true;  // To prevent multiple clicks.\n",
              "      quickchartButtonEl.classList.add('colab-df-spinner');\n",
              "      try {\n",
              "        const charts = await google.colab.kernel.invokeFunction(\n",
              "            'suggestCharts', [key], {});\n",
              "      } catch (error) {\n",
              "        console.error('Error during call to suggestCharts:', error);\n",
              "      }\n",
              "      quickchartButtonEl.classList.remove('colab-df-spinner');\n",
              "      quickchartButtonEl.classList.add('colab-df-quickchart-complete');\n",
              "    }\n",
              "    (() => {\n",
              "      let quickchartButtonEl =\n",
              "        document.querySelector('#df-2b2ad51f-87fa-45d8-8d66-a9e6800fe952 button');\n",
              "      quickchartButtonEl.style.display =\n",
              "        google.colab.kernel.accessAllowed ? 'block' : 'none';\n",
              "    })();\n",
              "  </script>\n",
              "</div>\n",
              "\n",
              "    </div>\n",
              "  </div>\n"
            ],
            "application/vnd.google.colaboratory.intrinsic+json": {
              "type": "dataframe"
            }
          },
          "metadata": {},
          "execution_count": 12
        }
      ]
    },
    {
      "cell_type": "markdown",
      "metadata": {
        "id": "24MAB_16qaq2"
      },
      "source": [
        "# Naive Bayes Classifier"
      ]
    },
    {
      "cell_type": "markdown",
      "metadata": {
        "id": "sX8l7bw0i2WC"
      },
      "source": [
        "## Using holdout"
      ]
    },
    {
      "cell_type": "markdown",
      "metadata": {
        "id": "KH4EeHNAqdW2"
      },
      "source": [
        "We construct the Naive Bayes classifier to find its accuracy and other measures."
      ]
    },
    {
      "cell_type": "code",
      "execution_count": 9,
      "metadata": {
        "id": "NdSHF7VvidCo"
      },
      "outputs": [],
      "source": [
        "# We import the classifier model and metrics\n",
        "from sklearn.neighbors  import KNeighborsClassifier\n",
        "from sklearn.model_selection import train_test_split\n",
        "from sklearn.metrics import accuracy_score, precision_score, recall_score"
      ]
    },
    {
      "cell_type": "code",
      "source": [
        "# Dictionary to test best K for range 3 - 15\n",
        "models_metrics = {}"
      ],
      "metadata": {
        "id": "1mJ1vGveBHza"
      },
      "execution_count": 13,
      "outputs": []
    },
    {
      "cell_type": "code",
      "execution_count": 15,
      "metadata": {
        "colab": {
          "base_uri": "https://localhost:8080/"
        },
        "id": "495NCzvDNewD",
        "outputId": "9942b5f1-e467-4a03-ad55-d67081c3b2a5"
      },
      "outputs": [
        {
          "output_type": "stream",
          "name": "stdout",
          "text": [
            "Evaluating  df_2k  data. at k =  3\n",
            "Evaluating  df_5k  data. at k =  3\n",
            "Evaluating  df_15k  data. at k =  3\n",
            "Evaluating  df_50k  data. at k =  3\n",
            "Evaluating  df_2k  data. at k =  5\n",
            "Evaluating  df_5k  data. at k =  5\n",
            "Evaluating  df_15k  data. at k =  5\n",
            "Evaluating  df_50k  data. at k =  5\n",
            "Evaluating  df_2k  data. at k =  7\n",
            "Evaluating  df_5k  data. at k =  7\n",
            "Evaluating  df_15k  data. at k =  7\n",
            "Evaluating  df_50k  data. at k =  7\n",
            "Evaluating  df_2k  data. at k =  9\n",
            "Evaluating  df_5k  data. at k =  9\n",
            "Evaluating  df_15k  data. at k =  9\n",
            "Evaluating  df_50k  data. at k =  9\n",
            "Evaluating  df_2k  data. at k =  11\n",
            "Evaluating  df_5k  data. at k =  11\n",
            "Evaluating  df_15k  data. at k =  11\n",
            "Evaluating  df_50k  data. at k =  11\n",
            "Evaluating  df_2k  data. at k =  13\n",
            "Evaluating  df_5k  data. at k =  13\n",
            "Evaluating  df_15k  data. at k =  13\n",
            "Evaluating  df_50k  data. at k =  13\n",
            "Evaluating  df_2k  data. at k =  15\n",
            "Evaluating  df_5k  data. at k =  15\n",
            "Evaluating  df_15k  data. at k =  15\n",
            "Evaluating  df_50k  data. at k =  15\n"
          ]
        }
      ],
      "source": [
        "for k in range(3, 16, 2):\n",
        "\n",
        "  # to store the accuracy, precision\n",
        "  knc_models_accuracy = {}\n",
        "  knc_models_precision = {}\n",
        "  knc_models_recall = {}\n",
        "\n",
        "  for key, value in data_dic.items():\n",
        "    print(\"Evaluating \", key , \" data. at k = \", k)\n",
        "    # we split the data\n",
        "    Y = value[\"infected\"]\n",
        "    X = value.drop(\"infected\", axis = 1)\n",
        "    x_train, x_test, y_train, y_test = train_test_split(X, Y, test_size = 0.2)\n",
        "\n",
        "    # we create model\n",
        "    knc = KNeighborsClassifier( n_neighbors = k )\n",
        "\n",
        "    # we fit the model\n",
        "    knc.fit(x_train, y_train)\n",
        "\n",
        "    # predicting the values\n",
        "    y_pred = knc.predict(x_test)\n",
        "\n",
        "    # evaluation model accuracy, precision, recall\n",
        "    knc_models_accuracy[key] = accuracy_score(y_test, y_pred)\n",
        "    knc_models_precision[key] = precision_score(y_test, y_pred)\n",
        "    knc_models_recall[key] = recall_score(y_test, y_pred)\n",
        "\n",
        "  # adding\n",
        "  models_metrics[k] = {\"accuracy\":knc_models_accuracy,\n",
        "                       \"precision\":knc_models_precision,\n",
        "                       \"recall\":knc_models_recall}"
      ]
    },
    {
      "cell_type": "code",
      "execution_count": 16,
      "metadata": {
        "colab": {
          "base_uri": "https://localhost:8080/"
        },
        "id": "CqVEy0SkRPXv",
        "outputId": "7fa06c97-26ab-4458-d7a4-c446502e1d54"
      },
      "outputs": [
        {
          "output_type": "execute_result",
          "data": {
            "text/plain": [
              "{'df_2k': 0.7967289719626168,\n",
              " 'df_5k': 0.674,\n",
              " 'df_15k': 0.6346666666666667,\n",
              " 'df_50k': 0.6502}"
            ]
          },
          "metadata": {},
          "execution_count": 16
        }
      ],
      "source": [
        "# Print the accuracies at k 3\n",
        "models_metrics[3][\"accuracy\"]\n"
      ]
    },
    {
      "cell_type": "code",
      "source": [
        "# Print the accuracies\n",
        "models_metrics[5][\"accuracy\"]"
      ],
      "metadata": {
        "colab": {
          "base_uri": "https://localhost:8080/"
        },
        "id": "wIxgfLnWCkYd",
        "outputId": "bf87126e-9877-44cd-9e53-86bcc34b35ba"
      },
      "execution_count": 17,
      "outputs": [
        {
          "output_type": "execute_result",
          "data": {
            "text/plain": [
              "{'df_2k': 0.8247663551401869,\n",
              " 'df_5k': 0.651,\n",
              " 'df_15k': 0.6573333333333333,\n",
              " 'df_50k': 0.6593}"
            ]
          },
          "metadata": {},
          "execution_count": 17
        }
      ]
    },
    {
      "cell_type": "code",
      "source": [
        "# Print the accuracies\n",
        "models_metrics[7][\"accuracy\"]"
      ],
      "metadata": {
        "colab": {
          "base_uri": "https://localhost:8080/"
        },
        "id": "Ya5rYbPdCo-H",
        "outputId": "70bb17d8-483f-4f32-ab66-5690643dfbba"
      },
      "execution_count": 18,
      "outputs": [
        {
          "output_type": "execute_result",
          "data": {
            "text/plain": [
              "{'df_2k': 0.7897196261682243,\n",
              " 'df_5k': 0.684,\n",
              " 'df_15k': 0.6596666666666666,\n",
              " 'df_50k': 0.6739}"
            ]
          },
          "metadata": {},
          "execution_count": 18
        }
      ]
    },
    {
      "cell_type": "code",
      "source": [
        "# Print the accuracies\n",
        "models_metrics[15][\"accuracy\"]"
      ],
      "metadata": {
        "colab": {
          "base_uri": "https://localhost:8080/"
        },
        "id": "8M9VDLlwCrQ3",
        "outputId": "a5e35518-7539-4595-8a9e-540c00f7d505"
      },
      "execution_count": 21,
      "outputs": [
        {
          "output_type": "execute_result",
          "data": {
            "text/plain": [
              "{'df_2k': 0.7733644859813084,\n",
              " 'df_5k': 0.682,\n",
              " 'df_15k': 0.6816666666666666,\n",
              " 'df_50k': 0.6813}"
            ]
          },
          "metadata": {},
          "execution_count": 21
        }
      ]
    },
    {
      "cell_type": "markdown",
      "metadata": {
        "id": "3QDDvhEDmhNu"
      },
      "source": [
        "We notice the best accuracy is not chaning, it is close at all different values of K."
      ]
    },
    {
      "cell_type": "code",
      "execution_count": 25,
      "metadata": {
        "colab": {
          "base_uri": "https://localhost:8080/"
        },
        "id": "g6v5UVVlmKz0",
        "outputId": "456bd8f4-1815-44ab-d04c-6c5457167346"
      },
      "outputs": [
        {
          "output_type": "execute_result",
          "data": {
            "text/plain": [
              "{'df_2k': 0.59375,\n",
              " 'df_5k': 0.4829059829059829,\n",
              " 'df_15k': 0.3852040816326531,\n",
              " 'df_50k': 0.42812130760141787}"
            ]
          },
          "metadata": {},
          "execution_count": 25
        }
      ],
      "source": [
        "# Print the precision\n",
        "models_metrics[3][\"precision\"]\n"
      ]
    },
    {
      "cell_type": "code",
      "source": [
        "# Print the precision\n",
        "models_metrics[5][\"precision\"]\n"
      ],
      "metadata": {
        "colab": {
          "base_uri": "https://localhost:8080/"
        },
        "id": "CZIi8bQyDEY1",
        "outputId": "08840d8b-e033-4299-c819-daad24011fb7"
      },
      "execution_count": 26,
      "outputs": [
        {
          "output_type": "execute_result",
          "data": {
            "text/plain": [
              "{'df_2k': 0.6727272727272727,\n",
              " 'df_5k': 0.47639484978540775,\n",
              " 'df_15k': 0.41205211726384366,\n",
              " 'df_50k': 0.43945398502862176}"
            ]
          },
          "metadata": {},
          "execution_count": 26
        }
      ]
    },
    {
      "cell_type": "code",
      "source": [
        "# Print the precision\n",
        "models_metrics[7][\"precision\"]"
      ],
      "metadata": {
        "colab": {
          "base_uri": "https://localhost:8080/"
        },
        "id": "crcrT1NUDNwf",
        "outputId": "4b2aa961-e9d1-4e69-a8dd-8a4c283dc5e0"
      },
      "execution_count": 28,
      "outputs": [
        {
          "output_type": "execute_result",
          "data": {
            "text/plain": [
              "{'df_2k': 0.7142857142857143,\n",
              " 'df_5k': 0.47297297297297297,\n",
              " 'df_15k': 0.41935483870967744,\n",
              " 'df_50k': 0.4619164619164619}"
            ]
          },
          "metadata": {},
          "execution_count": 28
        }
      ]
    },
    {
      "cell_type": "code",
      "source": [
        "# Print the precision\n",
        "models_metrics[9][\"precision\"]"
      ],
      "metadata": {
        "colab": {
          "base_uri": "https://localhost:8080/"
        },
        "id": "lxLeuWlBDOvL",
        "outputId": "84b90192-d0ca-4fb4-98c7-720bc70cc828"
      },
      "execution_count": 29,
      "outputs": [
        {
          "output_type": "execute_result",
          "data": {
            "text/plain": [
              "{'df_2k': 0.711864406779661,\n",
              " 'df_5k': 0.4925373134328358,\n",
              " 'df_15k': 0.44165170556552963,\n",
              " 'df_50k': 0.47490946714950855}"
            ]
          },
          "metadata": {},
          "execution_count": 29
        }
      ]
    },
    {
      "cell_type": "code",
      "source": [
        "# Print the precision\n",
        "models_metrics[15][\"precision\"]\n"
      ],
      "metadata": {
        "colab": {
          "base_uri": "https://localhost:8080/"
        },
        "id": "jgPhKASNDFbM",
        "outputId": "9b9ec638-894b-4fde-b662-33f8580d4c5a"
      },
      "execution_count": 27,
      "outputs": [
        {
          "output_type": "execute_result",
          "data": {
            "text/plain": [
              "{'df_2k': 0.6341463414634146,\n",
              " 'df_5k': 0.4583333333333333,\n",
              " 'df_15k': 0.4468503937007874,\n",
              " 'df_50k': 0.4711191335740072}"
            ]
          },
          "metadata": {},
          "execution_count": 27
        }
      ]
    },
    {
      "cell_type": "markdown",
      "metadata": {
        "id": "756QAHJ6muvj"
      },
      "source": [
        "The precision is best at K = 9"
      ]
    },
    {
      "cell_type": "code",
      "execution_count": 30,
      "metadata": {
        "colab": {
          "base_uri": "https://localhost:8080/"
        },
        "id": "td7oCrfNmPZd",
        "outputId": "1358afe9-dea4-4092-bb1b-03d0cb505ba9"
      },
      "outputs": [
        {
          "output_type": "execute_result",
          "data": {
            "text/plain": [
              "{'df_2k': 0.3838383838383838,\n",
              " 'df_5k': 0.3553459119496855,\n",
              " 'df_15k': 0.3296943231441048,\n",
              " 'df_50k': 0.34695180338333864}"
            ]
          },
          "metadata": {},
          "execution_count": 30
        }
      ],
      "source": [
        "# print the recall\n",
        "models_metrics[3][\"recall\"]"
      ]
    },
    {
      "cell_type": "code",
      "source": [
        "# print the recall\n",
        "models_metrics[5][\"recall\"]"
      ],
      "metadata": {
        "colab": {
          "base_uri": "https://localhost:8080/"
        },
        "id": "8lW0DIaADeE0",
        "outputId": "81edf903-bfea-4d5e-fc34-0332e46b8700"
      },
      "execution_count": 31,
      "outputs": [
        {
          "output_type": "execute_result",
          "data": {
            "text/plain": [
              "{'df_2k': 0.39361702127659576,\n",
              " 'df_5k': 0.32840236686390534,\n",
              " 'df_15k': 0.275,\n",
              " 'df_50k': 0.3186462324393359}"
            ]
          },
          "metadata": {},
          "execution_count": 31
        }
      ]
    },
    {
      "cell_type": "code",
      "source": [
        "# print the recall\n",
        "models_metrics[15][\"recall\"]"
      ],
      "metadata": {
        "colab": {
          "base_uri": "https://localhost:8080/"
        },
        "id": "I37n0yC8DfWl",
        "outputId": "7f104e2c-f63c-4ae8-c81e-578bd139827d"
      },
      "execution_count": 32,
      "outputs": [
        {
          "output_type": "execute_result",
          "data": {
            "text/plain": [
              "{'df_2k': 0.24074074074074073,\n",
              " 'df_5k': 0.2913907284768212,\n",
              " 'df_15k': 0.2519422863485017,\n",
              " 'df_50k': 0.2533160789388547}"
            ]
          },
          "metadata": {},
          "execution_count": 32
        }
      ]
    },
    {
      "cell_type": "markdown",
      "metadata": {
        "id": "fAucoULEmxsr"
      },
      "source": [
        "The recall is lower at higher sizes of the datasets, at lower `k value` it the recall is mostly the same with variations of the dataset size."
      ]
    },
    {
      "cell_type": "markdown",
      "metadata": {
        "id": "T_Li_3x8R7DR"
      },
      "source": [
        "## Cross-validation"
      ]
    },
    {
      "cell_type": "code",
      "execution_count": 37,
      "metadata": {
        "id": "cZHlX0XUPeZZ"
      },
      "outputs": [],
      "source": [
        "# import cross-validation model\n",
        "from sklearn.model_selection import cross_validate, KFold\n",
        "from sklearn.metrics import make_scorer # to get accuracy, precision, and recall"
      ]
    },
    {
      "cell_type": "code",
      "execution_count": 38,
      "metadata": {
        "id": "T5JPylyqs_fq"
      },
      "outputs": [],
      "source": [
        "# specify the scoring we wish to calculate\n",
        "scoring = {'accuracy' : make_scorer(accuracy_score),\n",
        "           'precision' : make_scorer(precision_score),\n",
        "           'recall' : make_scorer(recall_score)}"
      ]
    },
    {
      "cell_type": "code",
      "source": [
        "# metrics storing\n",
        "models_metrics = {}"
      ],
      "metadata": {
        "id": "GeRE41O_EAXu"
      },
      "execution_count": 39,
      "outputs": []
    },
    {
      "cell_type": "code",
      "execution_count": 41,
      "metadata": {
        "colab": {
          "base_uri": "https://localhost:8080/"
        },
        "id": "mRuFDiEATN1f",
        "outputId": "48b0ea6e-a792-4741-a054-9d54bfe2588f"
      },
      "outputs": [
        {
          "output_type": "stream",
          "name": "stdout",
          "text": [
            "Evaluating  df_2k  data at k =  3\n",
            "Evaluating  df_5k  data at k =  3\n",
            "Evaluating  df_15k  data at k =  3\n",
            "Evaluating  df_50k  data at k =  3\n",
            "Evaluating  df_2k  data at k =  5\n",
            "Evaluating  df_5k  data at k =  5\n",
            "Evaluating  df_15k  data at k =  5\n",
            "Evaluating  df_50k  data at k =  5\n",
            "Evaluating  df_2k  data at k =  7\n",
            "Evaluating  df_5k  data at k =  7\n",
            "Evaluating  df_15k  data at k =  7\n",
            "Evaluating  df_50k  data at k =  7\n",
            "Evaluating  df_2k  data at k =  9\n",
            "Evaluating  df_5k  data at k =  9\n",
            "Evaluating  df_15k  data at k =  9\n",
            "Evaluating  df_50k  data at k =  9\n",
            "Evaluating  df_2k  data at k =  11\n",
            "Evaluating  df_5k  data at k =  11\n",
            "Evaluating  df_15k  data at k =  11\n",
            "Evaluating  df_50k  data at k =  11\n",
            "Evaluating  df_2k  data at k =  13\n",
            "Evaluating  df_5k  data at k =  13\n",
            "Evaluating  df_15k  data at k =  13\n",
            "Evaluating  df_50k  data at k =  13\n",
            "Evaluating  df_2k  data at k =  15\n",
            "Evaluating  df_5k  data at k =  15\n",
            "Evaluating  df_15k  data at k =  15\n",
            "Evaluating  df_50k  data at k =  15\n"
          ]
        }
      ],
      "source": [
        "for k in range(3, 16, 2):\n",
        "  # to store the accuracy, precision\n",
        "  knc_models_accuracy = {}\n",
        "  knc_models_precision = {}\n",
        "  knc_models_recall = {}\n",
        "\n",
        "  for key, value in data_dic.items():\n",
        "    print(\"Evaluating \", key , \" data at k = \", k)\n",
        "    # we split the data\n",
        "    target = value[\"infected\"]\n",
        "    features = value.drop(\"infected\", axis = 1)\n",
        "\n",
        "    # we create model\n",
        "    knc = KNeighborsClassifier( n_neighbors = k )\n",
        "\n",
        "    # we specify number of folds within the data\n",
        "    kfold = KFold( n_splits = 10)\n",
        "\n",
        "    # we fit the model and obtain the results\n",
        "    model_metrics =  cross_validate(estimator=knc,\n",
        "                                      X= features,\n",
        "                                      y=target,\n",
        "                                      cv=kfold,\n",
        "                                      scoring=scoring)\n",
        "    # finding metrics: accuracy, precision, recall\n",
        "    knc_models_accuracy[key] = model_metrics[\"test_accuracy\"].mean()\n",
        "    knc_models_precision[key] = model_metrics[\"test_precision\"].mean()\n",
        "    knc_models_recall[key] = model_metrics[\"test_recall\"].mean()\n",
        "  # adding\n",
        "  models_metrics[k] = {\"accuracy\":knc_models_accuracy,\n",
        "                      \"precision\":knc_models_precision,\n",
        "                      \"recall\":knc_models_recall}"
      ]
    },
    {
      "cell_type": "code",
      "execution_count": 45,
      "metadata": {
        "colab": {
          "base_uri": "https://localhost:8080/"
        },
        "id": "UrSUUip8vFPy",
        "outputId": "f511fbf8-5863-4418-8ae2-fed2a2025e48"
      },
      "outputs": [
        {
          "output_type": "execute_result",
          "data": {
            "text/plain": [
              "{'df_2k': 0.8106204203413627,\n",
              " 'df_5k': 0.6436000000000001,\n",
              " 'df_15k': 0.6490666666666668,\n",
              " 'df_50k': 0.6463599999999999}"
            ]
          },
          "metadata": {},
          "execution_count": 45
        }
      ],
      "source": [
        "# we print the accuracies\n",
        "models_metrics[3][\"accuracy\"]"
      ]
    },
    {
      "cell_type": "code",
      "source": [
        "# we print the accuracies\n",
        "models_metrics[5][\"accuracy\"]"
      ],
      "metadata": {
        "colab": {
          "base_uri": "https://localhost:8080/"
        },
        "id": "f6dhUUI8FMO7",
        "outputId": "435b00ca-2553-4b2e-fdcc-116aab19a915"
      },
      "execution_count": 46,
      "outputs": [
        {
          "output_type": "execute_result",
          "data": {
            "text/plain": [
              "{'df_2k': 0.808286165591681,\n",
              " 'df_5k': 0.6646000000000001,\n",
              " 'df_15k': 0.6627999999999998,\n",
              " 'df_50k': 0.6604}"
            ]
          },
          "metadata": {},
          "execution_count": 46
        }
      ]
    },
    {
      "cell_type": "code",
      "source": [
        "# we print the accuracies\n",
        "models_metrics[15][\"accuracy\"]"
      ],
      "metadata": {
        "colab": {
          "base_uri": "https://localhost:8080/"
        },
        "id": "B1dMhZQ-FO3x",
        "outputId": "d2aa2f64-d72f-40d7-a53b-7b89757bd071"
      },
      "execution_count": 47,
      "outputs": [
        {
          "output_type": "execute_result",
          "data": {
            "text/plain": [
              "{'df_2k': 0.7952108288359441,\n",
              " 'df_5k': 0.6698000000000001,\n",
              " 'df_15k': 0.6845999999999999,\n",
              " 'df_50k': 0.6829400000000001}"
            ]
          },
          "metadata": {},
          "execution_count": 47
        }
      ]
    },
    {
      "cell_type": "markdown",
      "source": [
        "It is noticeable that with cross-validation, the valuse of `accuracy` are at their best at `k=3`"
      ],
      "metadata": {
        "id": "8iHPFo3LG1bM"
      }
    },
    {
      "cell_type": "code",
      "execution_count": 48,
      "metadata": {
        "colab": {
          "base_uri": "https://localhost:8080/"
        },
        "id": "m1iI7POJvIiE",
        "outputId": "f0391501-0658-4c84-d5a3-6807775a2be2"
      },
      "outputs": [
        {
          "output_type": "execute_result",
          "data": {
            "text/plain": [
              "{'df_2k': 0.6706537475934028,\n",
              " 'df_5k': 0.42201886976837644,\n",
              " 'df_15k': 0.4153102844991037,\n",
              " 'df_50k': 0.41401615668121317}"
            ]
          },
          "metadata": {},
          "execution_count": 48
        }
      ],
      "source": [
        "# we print the precision\n",
        "models_metrics[3][\"precision\"]"
      ]
    },
    {
      "cell_type": "code",
      "source": [
        "# we print the precision\n",
        "models_metrics[5][\"precision\"]"
      ],
      "metadata": {
        "colab": {
          "base_uri": "https://localhost:8080/"
        },
        "id": "vfxn5Zr7Fc8c",
        "outputId": "18306da5-1fe3-40be-9f4a-bbcb20a869fa"
      },
      "execution_count": 49,
      "outputs": [
        {
          "output_type": "execute_result",
          "data": {
            "text/plain": [
              "{'df_2k': 0.685377473734149,\n",
              " 'df_5k': 0.4587758346350679,\n",
              " 'df_15k': 0.4336787643318199,\n",
              " 'df_50k': 0.4340578494813432}"
            ]
          },
          "metadata": {},
          "execution_count": 49
        }
      ]
    },
    {
      "cell_type": "code",
      "source": [
        "# we print the precision\n",
        "models_metrics[7][\"precision\"]"
      ],
      "metadata": {
        "colab": {
          "base_uri": "https://localhost:8080/"
        },
        "id": "kl_CY-oiFeGa",
        "outputId": "aa101ab2-d78f-4d84-b2e1-9fdaeec70434"
      },
      "execution_count": 51,
      "outputs": [
        {
          "output_type": "execute_result",
          "data": {
            "text/plain": [
              "{'df_2k': 0.7115987252702024,\n",
              " 'df_5k': 0.4730412611648368,\n",
              " 'df_15k': 0.43410751828643546,\n",
              " 'df_50k': 0.45323409587157953}"
            ]
          },
          "metadata": {},
          "execution_count": 51
        }
      ]
    },
    {
      "cell_type": "code",
      "source": [
        "# we print the precision\n",
        "models_metrics[9][\"precision\"]"
      ],
      "metadata": {
        "colab": {
          "base_uri": "https://localhost:8080/"
        },
        "id": "xfnuHc0WFfvc",
        "outputId": "49bccdf2-dfdf-4536-91f2-c2430af389f7"
      },
      "execution_count": 52,
      "outputs": [
        {
          "output_type": "execute_result",
          "data": {
            "text/plain": [
              "{'df_2k': 0.7343085491506545,\n",
              " 'df_5k': 0.4776992970599567,\n",
              " 'df_15k': 0.44617346269773106,\n",
              " 'df_50k': 0.46531035044956626}"
            ]
          },
          "metadata": {},
          "execution_count": 52
        }
      ]
    },
    {
      "cell_type": "code",
      "source": [
        "# we print the precision\n",
        "models_metrics[15][\"precision\"]"
      ],
      "metadata": {
        "colab": {
          "base_uri": "https://localhost:8080/"
        },
        "id": "1IUs8yLfFgwE",
        "outputId": "596c2846-6692-45e0-cfd3-56855d4acfe9"
      },
      "execution_count": 53,
      "outputs": [
        {
          "output_type": "execute_result",
          "data": {
            "text/plain": [
              "{'df_2k': 0.6995571671588502,\n",
              " 'df_5k': 0.4630266920177588,\n",
              " 'df_15k': 0.479470674196593,\n",
              " 'df_50k': 0.47950145408471495}"
            ]
          },
          "metadata": {},
          "execution_count": 53
        }
      ]
    },
    {
      "cell_type": "markdown",
      "source": [
        "It is noticeable that with cross-validation, the valuse of `precision` are at their best at `k=9`"
      ],
      "metadata": {
        "id": "sPSKsoWkGnKy"
      }
    },
    {
      "cell_type": "code",
      "execution_count": 54,
      "metadata": {
        "colab": {
          "base_uri": "https://localhost:8080/"
        },
        "id": "_UoaUqVRvRIn",
        "outputId": "33ef3096-b800-4492-8a97-6f25405a43e3"
      },
      "outputs": [
        {
          "output_type": "execute_result",
          "data": {
            "text/plain": [
              "{'df_2k': 0.4171707672220532,\n",
              " 'df_5k': 0.3470435533279318,\n",
              " 'df_15k': 0.3357367460602956,\n",
              " 'df_50k': 0.33794232568606847}"
            ]
          },
          "metadata": {},
          "execution_count": 54
        }
      ],
      "source": [
        "# we print the recall\n",
        "models_metrics[3][\"recall\"]"
      ]
    },
    {
      "cell_type": "code",
      "source": [
        "# we print the precision\n",
        "models_metrics[5][\"recall\"]"
      ],
      "metadata": {
        "colab": {
          "base_uri": "https://localhost:8080/"
        },
        "id": "K1OxQzJjFmPQ",
        "outputId": "31fa81e4-0266-4785-da95-a77f5419c010"
      },
      "execution_count": 55,
      "outputs": [
        {
          "output_type": "execute_result",
          "data": {
            "text/plain": [
              "{'df_2k': 0.3799801086236031,\n",
              " 'df_5k': 0.33426357974426146,\n",
              " 'df_15k': 0.3005927866392076,\n",
              " 'df_50k': 0.31353193724670414}"
            ]
          },
          "metadata": {},
          "execution_count": 55
        }
      ]
    },
    {
      "cell_type": "code",
      "source": [
        "# we print the precision\n",
        "models_metrics[7][\"recall\"]"
      ],
      "metadata": {
        "colab": {
          "base_uri": "https://localhost:8080/"
        },
        "id": "TjX0PS6hFng4",
        "outputId": "9c2a8d6e-a524-448d-9118-826127086f1e"
      },
      "execution_count": 56,
      "outputs": [
        {
          "output_type": "execute_result",
          "data": {
            "text/plain": [
              "{'df_2k': 0.3401765794052069,\n",
              " 'df_5k': 0.3253423120437832,\n",
              " 'df_15k': 0.2768958768978952,\n",
              " 'df_50k': 0.3034108741209406}"
            ]
          },
          "metadata": {},
          "execution_count": 56
        }
      ]
    },
    {
      "cell_type": "code",
      "source": [
        "# we print the precision\n",
        "models_metrics[15][\"recall\"]"
      ],
      "metadata": {
        "colab": {
          "base_uri": "https://localhost:8080/"
        },
        "id": "y2J7XX04FoyM",
        "outputId": "ab7dffed-beea-4050-d4b8-aac0ab6333f9"
      },
      "execution_count": 57,
      "outputs": [
        {
          "output_type": "execute_result",
          "data": {
            "text/plain": [
              "{'df_2k': 0.2698765166805848,\n",
              " 'df_5k': 0.27123475294328764,\n",
              " 'df_15k': 0.24929238640778947,\n",
              " 'df_50k': 0.26375172993150986}"
            ]
          },
          "metadata": {},
          "execution_count": 57
        }
      ]
    },
    {
      "cell_type": "markdown",
      "metadata": {
        "id": "iQRSNMSF0-q2"
      },
      "source": [
        "It is noticeable that with cross-validation, the valuse of recall are at best values at K=3"
      ]
    }
  ],
  "metadata": {
    "colab": {
      "collapsed_sections": [
        "ONMWtZAwjQfO",
        "bElUJa-4nsTc"
      ],
      "provenance": [],
      "include_colab_link": true
    },
    "kernelspec": {
      "display_name": "Python 3",
      "name": "python3"
    },
    "language_info": {
      "name": "python"
    }
  },
  "nbformat": 4,
  "nbformat_minor": 0
}